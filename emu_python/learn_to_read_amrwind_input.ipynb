{
 "cells": [
  {
   "cell_type": "code",
   "execution_count": 22,
   "metadata": {},
   "outputs": [
    {
     "name": "stdout",
     "output_type": "stream",
     "text": [
      "[(250.0, 475.0)]\n",
      "[(250.0, 475.0), (750.0, 525.0)]\n"
     ]
    }
   ],
   "source": [
    "filename = 'input.i'\n",
    "count = 0\n",
    "with open(filename) as fp:\n",
    "    Lines = fp.readlines()\n",
    "    \n",
    "    # Find the actuators\n",
    "    for line in Lines:\n",
    "        if 'Actuator.labels' in line:\n",
    "            turbine_labels = line.split()[2:]\n",
    "            num_turbines = len(turbine_labels)\n",
    "            \n",
    "    # Find the diameter\n",
    "    for line in Lines:\n",
    "        if 'Actuator.UniformCtDisk.rotor_diameter' in line:\n",
    "            D = line.split()[-1]\n",
    "\n",
    "    \n",
    "    \n",
    "    # Get the turbine locations\n",
    "    turbine_locations = []\n",
    "    for label in turbine_labels:\n",
    "        for line in Lines:\n",
    "            if 'Actuator.%s.base_position' % label in line:\n",
    "                locations = tuple([float(f) for f in line.split()[-3:-1]])\n",
    "                turbine_locations.append(locations)\n",
    "                print(turbine_locations)\n",
    "                \n"
   ]
  }
 ],
 "metadata": {
  "kernelspec": {
   "display_name": "env_nowrdc",
   "language": "python",
   "name": "env_nowrdc"
  },
  "language_info": {
   "codemirror_mode": {
    "name": "ipython",
    "version": 3
   },
   "file_extension": ".py",
   "mimetype": "text/x-python",
   "name": "python",
   "nbconvert_exporter": "python",
   "pygments_lexer": "ipython3",
   "version": "3.7.9"
  }
 },
 "nbformat": 4,
 "nbformat_minor": 2
}
