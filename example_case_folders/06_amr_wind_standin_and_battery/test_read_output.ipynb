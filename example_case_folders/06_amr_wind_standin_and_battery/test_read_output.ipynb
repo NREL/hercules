{
 "cells": [
  {
   "cell_type": "code",
   "execution_count": 25,
   "metadata": {},
   "outputs": [],
   "source": [
    "import matplotlib.pyplot as plt\n",
    "import pandas as pd"
   ]
  },
  {
   "cell_type": "code",
   "execution_count": 26,
   "metadata": {},
   "outputs": [
    {
     "data": {
      "text/html": [
       "<div>\n",
       "<style scoped>\n",
       "    .dataframe tbody tr th:only-of-type {\n",
       "        vertical-align: middle;\n",
       "    }\n",
       "\n",
       "    .dataframe tbody tr th {\n",
       "        vertical-align: top;\n",
       "    }\n",
       "\n",
       "    .dataframe thead th {\n",
       "        text-align: right;\n",
       "    }\n",
       "</style>\n",
       "<table border=\"1\" class=\"dataframe\">\n",
       "  <thead>\n",
       "    <tr style=\"text-align: right;\">\n",
       "      <th></th>\n",
       "      <th>dt</th>\n",
       "      <th>hercules_comms.amr_wind.wind_farm_0.num_turbines</th>\n",
       "      <th>hercules_comms.amr_wind.wind_farm_0.rotor_diameter</th>\n",
       "      <th>hercules_comms.amr_wind.wind_farm_0.turbine_powers.000</th>\n",
       "      <th>hercules_comms.amr_wind.wind_farm_0.turbine_powers.001</th>\n",
       "      <th>hercules_comms.amr_wind.wind_farm_0.turbine_wind_directions.000</th>\n",
       "      <th>hercules_comms.amr_wind.wind_farm_0.turbine_wind_directions.001</th>\n",
       "      <th>hercules_comms.amr_wind.wind_farm_0.wind_direction</th>\n",
       "      <th>hercules_comms.amr_wind.wind_farm_0.sim_time_s_amr_wind</th>\n",
       "      <th>hercules_comms.helics.config.use_dash_frontend</th>\n",
       "      <th>...</th>\n",
       "      <th>py_sims.battery_0.outputs.reject</th>\n",
       "      <th>py_sims.battery_0.outputs.soc</th>\n",
       "      <th>py_sims.inputs.available_power</th>\n",
       "      <th>py_sims.inputs.battery_signal</th>\n",
       "      <th>py_sims.inputs.sim_time_s</th>\n",
       "      <th>controller.num_turbines</th>\n",
       "      <th>controller.initial_conditions.yaw</th>\n",
       "      <th>time</th>\n",
       "      <th>setpoints.battery.signal</th>\n",
       "      <th>clock_time</th>\n",
       "    </tr>\n",
       "  </thead>\n",
       "  <tbody>\n",
       "    <tr>\n",
       "      <th>0</th>\n",
       "      <td>0.5</td>\n",
       "      <td>2</td>\n",
       "      <td>126.0</td>\n",
       "      <td>0.000000</td>\n",
       "      <td>0.000000</td>\n",
       "      <td>0</td>\n",
       "      <td>0</td>\n",
       "      <td>0.000000</td>\n",
       "      <td>0.0</td>\n",
       "      <td>False</td>\n",
       "      <td>...</td>\n",
       "      <td>0</td>\n",
       "      <td>0.102</td>\n",
       "      <td>0.000000</td>\n",
       "      <td>0.0</td>\n",
       "      <td>0.0</td>\n",
       "      <td>2</td>\n",
       "      <td>270.0</td>\n",
       "      <td>0.5</td>\n",
       "      <td>0.000000</td>\n",
       "      <td>2024-03-26 16:17:31.984420</td>\n",
       "    </tr>\n",
       "    <tr>\n",
       "      <th>1</th>\n",
       "      <td>0.5</td>\n",
       "      <td>2</td>\n",
       "      <td>126.0</td>\n",
       "      <td>15.925403</td>\n",
       "      <td>18.692602</td>\n",
       "      <td>0</td>\n",
       "      <td>0</td>\n",
       "      <td>200.022235</td>\n",
       "      <td>0.5</td>\n",
       "      <td>False</td>\n",
       "      <td>...</td>\n",
       "      <td>0</td>\n",
       "      <td>0.102</td>\n",
       "      <td>34.618005</td>\n",
       "      <td>0.0</td>\n",
       "      <td>0.5</td>\n",
       "      <td>2</td>\n",
       "      <td>270.0</td>\n",
       "      <td>1.0</td>\n",
       "      <td>34.618005</td>\n",
       "      <td>2024-03-26 16:17:31.993016</td>\n",
       "    </tr>\n",
       "    <tr>\n",
       "      <th>2</th>\n",
       "      <td>0.5</td>\n",
       "      <td>2</td>\n",
       "      <td>126.0</td>\n",
       "      <td>25.717009</td>\n",
       "      <td>25.677005</td>\n",
       "      <td>0</td>\n",
       "      <td>0</td>\n",
       "      <td>200.044469</td>\n",
       "      <td>1.0</td>\n",
       "      <td>False</td>\n",
       "      <td>...</td>\n",
       "      <td>0</td>\n",
       "      <td>0.102</td>\n",
       "      <td>51.394014</td>\n",
       "      <td>0.0</td>\n",
       "      <td>1.0</td>\n",
       "      <td>2</td>\n",
       "      <td>270.0</td>\n",
       "      <td>1.5</td>\n",
       "      <td>51.394014</td>\n",
       "      <td>2024-03-26 16:17:31.996600</td>\n",
       "    </tr>\n",
       "    <tr>\n",
       "      <th>3</th>\n",
       "      <td>0.5</td>\n",
       "      <td>2</td>\n",
       "      <td>126.0</td>\n",
       "      <td>28.527186</td>\n",
       "      <td>7.881893</td>\n",
       "      <td>0</td>\n",
       "      <td>0</td>\n",
       "      <td>200.066704</td>\n",
       "      <td>1.5</td>\n",
       "      <td>False</td>\n",
       "      <td>...</td>\n",
       "      <td>0</td>\n",
       "      <td>0.102</td>\n",
       "      <td>36.409079</td>\n",
       "      <td>0.0</td>\n",
       "      <td>1.5</td>\n",
       "      <td>2</td>\n",
       "      <td>270.0</td>\n",
       "      <td>2.0</td>\n",
       "      <td>36.409079</td>\n",
       "      <td>2024-03-26 16:17:32.000433</td>\n",
       "    </tr>\n",
       "    <tr>\n",
       "      <th>4</th>\n",
       "      <td>0.5</td>\n",
       "      <td>2</td>\n",
       "      <td>126.0</td>\n",
       "      <td>12.289468</td>\n",
       "      <td>35.255915</td>\n",
       "      <td>0</td>\n",
       "      <td>0</td>\n",
       "      <td>200.088938</td>\n",
       "      <td>2.0</td>\n",
       "      <td>False</td>\n",
       "      <td>...</td>\n",
       "      <td>0</td>\n",
       "      <td>0.102</td>\n",
       "      <td>47.545383</td>\n",
       "      <td>0.0</td>\n",
       "      <td>2.0</td>\n",
       "      <td>2</td>\n",
       "      <td>270.0</td>\n",
       "      <td>2.5</td>\n",
       "      <td>47.545383</td>\n",
       "      <td>2024-03-26 16:17:32.002101</td>\n",
       "    </tr>\n",
       "  </tbody>\n",
       "</table>\n",
       "<p>5 rows × 35 columns</p>\n",
       "</div>"
      ],
      "text/plain": [
       "    dt  hercules_comms.amr_wind.wind_farm_0.num_turbines  \\\n",
       "0  0.5                                                 2   \n",
       "1  0.5                                                 2   \n",
       "2  0.5                                                 2   \n",
       "3  0.5                                                 2   \n",
       "4  0.5                                                 2   \n",
       "\n",
       "   hercules_comms.amr_wind.wind_farm_0.rotor_diameter  \\\n",
       "0                                              126.0    \n",
       "1                                              126.0    \n",
       "2                                              126.0    \n",
       "3                                              126.0    \n",
       "4                                              126.0    \n",
       "\n",
       "   hercules_comms.amr_wind.wind_farm_0.turbine_powers.000  \\\n",
       "0                                           0.000000        \n",
       "1                                          15.925403        \n",
       "2                                          25.717009        \n",
       "3                                          28.527186        \n",
       "4                                          12.289468        \n",
       "\n",
       "   hercules_comms.amr_wind.wind_farm_0.turbine_powers.001  \\\n",
       "0                                           0.000000        \n",
       "1                                          18.692602        \n",
       "2                                          25.677005        \n",
       "3                                           7.881893        \n",
       "4                                          35.255915        \n",
       "\n",
       "   hercules_comms.amr_wind.wind_farm_0.turbine_wind_directions.000  \\\n",
       "0                                                  0                 \n",
       "1                                                  0                 \n",
       "2                                                  0                 \n",
       "3                                                  0                 \n",
       "4                                                  0                 \n",
       "\n",
       "   hercules_comms.amr_wind.wind_farm_0.turbine_wind_directions.001  \\\n",
       "0                                                  0                 \n",
       "1                                                  0                 \n",
       "2                                                  0                 \n",
       "3                                                  0                 \n",
       "4                                                  0                 \n",
       "\n",
       "   hercules_comms.amr_wind.wind_farm_0.wind_direction  \\\n",
       "0                                           0.000000    \n",
       "1                                         200.022235    \n",
       "2                                         200.044469    \n",
       "3                                         200.066704    \n",
       "4                                         200.088938    \n",
       "\n",
       "   hercules_comms.amr_wind.wind_farm_0.sim_time_s_amr_wind  \\\n",
       "0                                                0.0         \n",
       "1                                                0.5         \n",
       "2                                                1.0         \n",
       "3                                                1.5         \n",
       "4                                                2.0         \n",
       "\n",
       "   hercules_comms.helics.config.use_dash_frontend  ...  \\\n",
       "0                                           False  ...   \n",
       "1                                           False  ...   \n",
       "2                                           False  ...   \n",
       "3                                           False  ...   \n",
       "4                                           False  ...   \n",
       "\n",
       "   py_sims.battery_0.outputs.reject  py_sims.battery_0.outputs.soc  \\\n",
       "0                                 0                          0.102   \n",
       "1                                 0                          0.102   \n",
       "2                                 0                          0.102   \n",
       "3                                 0                          0.102   \n",
       "4                                 0                          0.102   \n",
       "\n",
       "   py_sims.inputs.available_power  py_sims.inputs.battery_signal  \\\n",
       "0                        0.000000                            0.0   \n",
       "1                       34.618005                            0.0   \n",
       "2                       51.394014                            0.0   \n",
       "3                       36.409079                            0.0   \n",
       "4                       47.545383                            0.0   \n",
       "\n",
       "   py_sims.inputs.sim_time_s  controller.num_turbines  \\\n",
       "0                        0.0                        2   \n",
       "1                        0.5                        2   \n",
       "2                        1.0                        2   \n",
       "3                        1.5                        2   \n",
       "4                        2.0                        2   \n",
       "\n",
       "   controller.initial_conditions.yaw  time  setpoints.battery.signal  \\\n",
       "0                              270.0   0.5                  0.000000   \n",
       "1                              270.0   1.0                 34.618005   \n",
       "2                              270.0   1.5                 51.394014   \n",
       "3                              270.0   2.0                 36.409079   \n",
       "4                              270.0   2.5                 47.545383   \n",
       "\n",
       "                   clock_time  \n",
       "0  2024-03-26 16:17:31.984420  \n",
       "1  2024-03-26 16:17:31.993016  \n",
       "2  2024-03-26 16:17:31.996600  \n",
       "3  2024-03-26 16:17:32.000433  \n",
       "4  2024-03-26 16:17:32.002101  \n",
       "\n",
       "[5 rows x 35 columns]"
      ]
     },
     "execution_count": 26,
     "metadata": {},
     "output_type": "execute_result"
    }
   ],
   "source": [
    "# Read the output file\n",
    "df = pd.read_csv(\"outputs/hercules_output.csv\", index_col=False)\n",
    "df.head()"
   ]
  },
  {
   "cell_type": "code",
   "execution_count": 27,
   "metadata": {},
   "outputs": [
    {
     "data": {
      "text/plain": [
       "Index(['dt', 'hercules_comms.amr_wind.wind_farm_0.num_turbines',\n",
       "       'hercules_comms.amr_wind.wind_farm_0.rotor_diameter',\n",
       "       'hercules_comms.amr_wind.wind_farm_0.turbine_powers.000',\n",
       "       'hercules_comms.amr_wind.wind_farm_0.turbine_powers.001',\n",
       "       'hercules_comms.amr_wind.wind_farm_0.turbine_wind_directions.000',\n",
       "       'hercules_comms.amr_wind.wind_farm_0.turbine_wind_directions.001',\n",
       "       'hercules_comms.amr_wind.wind_farm_0.wind_direction',\n",
       "       'hercules_comms.amr_wind.wind_farm_0.sim_time_s_amr_wind',\n",
       "       'hercules_comms.helics.config.use_dash_frontend',\n",
       "       'hercules_comms.helics.config.KAFKA',\n",
       "       'hercules_comms.helics.config.helics.helicsport',\n",
       "       'hercules_comms.helics.config.helics.deltat',\n",
       "       'hercules_comms.helics.config.publication_interval',\n",
       "       'hercules_comms.helics.config.endpoint_interval',\n",
       "       'hercules_comms.helics.config.starttime',\n",
       "       'hercules_comms.helics.config.stoptime', 'py_sims.battery_0.size',\n",
       "       'py_sims.battery_0.energy_capacity', 'py_sims.battery_0.charge_rate',\n",
       "       'py_sims.battery_0.discharge_rate', 'py_sims.battery_0.max_SOC',\n",
       "       'py_sims.battery_0.min_SOC', 'py_sims.battery_0.initial_conditions.SOC',\n",
       "       'py_sims.battery_0.outputs.power', 'py_sims.battery_0.outputs.reject',\n",
       "       'py_sims.battery_0.outputs.soc', 'py_sims.inputs.available_power',\n",
       "       'py_sims.inputs.battery_signal', 'py_sims.inputs.sim_time_s',\n",
       "       'controller.num_turbines', 'controller.initial_conditions.yaw', 'time',\n",
       "       'setpoints.battery.signal', 'clock_time'],\n",
       "      dtype='object')"
      ]
     },
     "execution_count": 27,
     "metadata": {},
     "output_type": "execute_result"
    }
   ],
   "source": [
    "df.columns"
   ]
  },
  {
   "cell_type": "code",
   "execution_count": 28,
   "metadata": {},
   "outputs": [
    {
     "data": {
      "text/plain": [
       "<matplotlib.legend.Legend at 0x2e2268b8670>"
      ]
     },
     "execution_count": 28,
     "metadata": {},
     "output_type": "execute_result"
    },
    {
     "data": {
      "image/png": "[encoded data removed]",
      "text/plain": [
       "<Figure size 432x288 with 1 Axes>"
      ]
     },
     "metadata": {
      "needs_background": "light"
     },
     "output_type": "display_data"
    }
   ],
   "source": [
    "plt.figure()\n",
    "time = df[\"hercules_comms.amr_wind.wind_farm_0.sim_time_s_amr_wind\"]\n",
    "plt.plot(time, df[\"hercules_comms.amr_wind.wind_farm_0.turbine_powers.000\"], label=\"WT000\")\n",
    "plt.plot(time, df[\"hercules_comms.amr_wind.wind_farm_0.turbine_powers.001\"], label=\"WT001\")\n",
    "plt.plot(time, df[\"py_sims.inputs.available_power\"], label=\"available power\")\n",
    "plt.ylabel(\"Power\")\n",
    "plt.xlabel(\"Time\")\n",
    "plt.legend()"
   ]
  },
  {
   "cell_type": "code",
   "execution_count": 29,
   "metadata": {},
   "outputs": [
    {
     "data": {
      "text/plain": [
       "<matplotlib.legend.Legend at 0x2e2269972b0>"
      ]
     },
     "execution_count": 29,
     "metadata": {},
     "output_type": "execute_result"
    },
    {
     "data": {
      "image/png": "[encoded data removed]",
      "text/plain": [
       "<Figure size 432x288 with 1 Axes>"
      ]
     },
     "metadata": {
      "needs_background": "light"
     },
     "output_type": "display_data"
    },
    {
     "data": {
      "image/png": "[encoded data removed]",
      "text/plain": [
       "<Figure size 432x288 with 1 Axes>"
      ]
     },
     "metadata": {
      "needs_background": "light"
     },
     "output_type": "display_data"
    }
   ],
   "source": [
    "plt.figure()\n",
    "time = df[\"hercules_comms.amr_wind.wind_farm_0.sim_time_s_amr_wind\"]\n",
    "plt.plot(time, df[\"py_sims.battery_0.outputs.power\"], label=\"Battery Power\")\n",
    "plt.ylabel(\"Power\")\n",
    "plt.xlabel(\"Time\")\n",
    "plt.legend()\n",
    "\n",
    "plt.figure()\n",
    "time = df[\"hercules_comms.amr_wind.wind_farm_0.sim_time_s_amr_wind\"]\n",
    "plt.plot(time, df[\"py_sims.battery_0.outputs.soc\"], label=\"Battery SOC\")\n",
    "plt.ylabel(\"SOC\")\n",
    "plt.xlabel(\"Time\")\n",
    "plt.legend()"
   ]
  }
 ],
 "metadata": {
  "kernelspec": {
   "display_name": "Python 3.9.7 ('base')",
   "language": "python",
   "name": "python3"
  },
  "language_info": {
   "codemirror_mode": {
    "name": "ipython",
    "version": 3
   },
   "file_extension": ".py",
   "mimetype": "text/x-python",
   "name": "python",
   "nbconvert_exporter": "python",
   "pygments_lexer": "ipython3",
   "version": "3.9.7"
  },
  "orig_nbformat": 4,
  "vscode": {
   "interpreter": {
    "hash": "ad2bdc8ecc057115af97d19610ffacc2b4e99fae6737bb82f5d7fb13d2f2c186"
   }
  }
 },
 "nbformat": 4,
 "nbformat_minor": 2
}
