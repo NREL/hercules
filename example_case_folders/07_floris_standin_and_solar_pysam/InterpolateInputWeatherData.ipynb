{
 "cells": [
  {
   "cell_type": "markdown",
   "metadata": {},
   "source": [
    "## Interpolate input weather data to dt = 0.5 to match amr wind dt ##"
   ]
  },
  {
   "cell_type": "code",
   "execution_count": null,
   "metadata": {},
   "outputs": [],
   "source": [
    "# Most recently tested against PySAM 4.2.0\n",
    "\n",
    "# NOTE: at this stage this notebook is not running and needs to be updated\n",
    "\n",
    "import matplotlib.pyplot as plt\n",
    "import numpy as np\n",
    "import pandas as pd\n",
    "import PySAM.Pvwattsv7 as pvwatts"
   ]
  },
  {
   "attachments": {},
   "cell_type": "markdown",
   "metadata": {},
   "source": [
    "### Read sample data"
   ]
  },
  {
   "cell_type": "code",
   "execution_count": null,
   "metadata": {},
   "outputs": [],
   "source": [
    "data = pd.read_csv(\"NonAnnualSimulation-sample_data.csv\")\n",
    "data[\"Timestamp\"] = pd.DatetimeIndex(pd.to_datetime(data[\"Timestamp\"], utc=True))\n",
    "data = data.set_index(\"Timestamp\")\n",
    "data = data[data.index > \"2018-05-10 12:30:00+0000\"]  # select only after 10am UTC"
   ]
  },
  {
   "cell_type": "code",
   "execution_count": null,
   "metadata": {},
   "outputs": [],
   "source": [
    "data.head()"
   ]
  },
  {
   "cell_type": "code",
   "execution_count": null,
   "metadata": {},
   "outputs": [],
   "source": [
    "data.info()"
   ]
  },
  {
   "cell_type": "code",
   "execution_count": null,
   "metadata": {},
   "outputs": [],
   "source": [
    "data_resampled = data.resample(\"0.5S\").asfreq()\n",
    "data_resampled_filled = data_resampled.interpolate()\n",
    "data_resampled_filled.head()"
   ]
  },
  {
   "cell_type": "code",
   "execution_count": null,
   "metadata": {},
   "outputs": [],
   "source": [
    "# data['SRRL BMS Direct Normal Irradiance (W/m²_irr)'].plot()\n",
    "# data_resampled['SRRL BMS Direct Normal Irradiance (W/m²_irr)'].plot(style='.-')\n",
    "# plt.legend([\"data\", \"resampled\"])\n",
    "# plt.ylabel(\"Energy (kW)\")\n",
    "\n",
    "for col in data.columns:\n",
    "    fig, ax = plt.subplots(figsize=[6, 3], dpi=250)\n",
    "    ax.plot(data[col], \"-\", label=\"data\")\n",
    "    # ax.plot(data_resampled['SRRL BMS Direct Normal Irradiance (W/m²_irr)'],'.', label='resampled')\n",
    "    ax.plot(data_resampled_filled[col], \"--\", label=\"filled\")\n",
    "    ax.set_ylabel(col)\n",
    "    ax.legend()"
   ]
  },
  {
   "cell_type": "code",
   "execution_count": null,
   "metadata": {},
   "outputs": [],
   "source": [
    "data = data_resampled_filled\n",
    "# data = test_data_interp\n",
    "\n",
    "weather_data = np.array(\n",
    "    [\n",
    "        data.index.year,\n",
    "        data.index.month,\n",
    "        data.index.day,\n",
    "        data.index.hour,\n",
    "        data.index.minute,\n",
    "        data[\"SRRL BMS Direct Normal Irradiance (W/m²_irr)\"],\n",
    "        data[\"SRRL BMS Diffuse Horizontal Irradiance (W/m²_irr)\"],\n",
    "        data[\"SRRL BMS Global Horizontal Irradiance (W/m²_irr)\"],\n",
    "        data[\"SRRL BMS Wind Speed at 19' (m/s)\"],\n",
    "        data[\"SRRL BMS Dry Bulb Temperature (°C)\"],\n",
    "    ]\n",
    ")"
   ]
  },
  {
   "attachments": {},
   "cell_type": "markdown",
   "metadata": {},
   "source": [
    "### Set model parameters"
   ]
  },
  {
   "cell_type": "code",
   "execution_count": null,
   "metadata": {},
   "outputs": [],
   "source": [
    "sys_design = {\n",
    "    \"ModelParams\": {\n",
    "        \"SystemDesign\": {\n",
    "            \"array_type\": 2.0,\n",
    "            \"azimuth\": 180.0,\n",
    "            \"dc_ac_ratio\": 1.08,\n",
    "            \"gcr\": 0.592,\n",
    "            \"inv_eff\": 97.5,\n",
    "            \"losses\": 15.53,\n",
    "            \"module_type\": 2.0,\n",
    "            \"system_capacity\": 720,\n",
    "            \"tilt\": 0.0,\n",
    "        },\n",
    "        \"SolarResource\": {},\n",
    "    },\n",
    "    \"Other\": {\"lat\": 39.7442, \"lon\": -105.1778, \"elev\": 1829},\n",
    "}\n",
    "\n",
    "model_params = sys_design[\"ModelParams\"]\n",
    "elev = sys_design[\"Other\"][\"elev\"]\n",
    "lat = sys_design[\"Other\"][\"lat\"]\n",
    "lon = sys_design[\"Other\"][\"lon\"]\n",
    "tz = data.index[0].utcoffset().total_seconds() / 60 / 60"
   ]
  },
  {
   "attachments": {},
   "cell_type": "markdown",
   "metadata": {},
   "source": [
    "### Make predictions"
   ]
  },
  {
   "cell_type": "code",
   "execution_count": null,
   "metadata": {},
   "outputs": [],
   "source": [
    "system_model = pvwatts.new()\n",
    "system_model.assign(model_params)\n",
    "\n",
    "solar_resource_data = {\n",
    "    \"tz\": tz,  # timezone\n",
    "    \"elev\": elev,  # elevation\n",
    "    \"lat\": lat,  # latitude\n",
    "    \"lon\": lon,  # longitude\n",
    "    \"year\": tuple(weather_data[0]),  # year\n",
    "    \"month\": tuple(weather_data[1]),  # month\n",
    "    \"day\": tuple(weather_data[2]),  # day\n",
    "    \"hour\": tuple(weather_data[3]),  # hour\n",
    "    \"minute\": tuple(weather_data[4]),  # minute\n",
    "    \"dn\": tuple(weather_data[5]),  # direct normal irradiance\n",
    "    \"df\": tuple(weather_data[6]),  # diffuse irradiance\n",
    "    \"gh\": tuple(weather_data[7]),  # global horizontal irradiance\n",
    "    \"wspd\": tuple(weather_data[8]),  # windspeed\n",
    "    \"tdry\": tuple(weather_data[9]),  # dry bulb temperature\n",
    "}\n",
    "\n",
    "system_model.SolarResource.assign({\"solar_resource_data\": solar_resource_data})\n",
    "system_model.AdjustmentFactors.assign({\"constant\": 0})\n",
    "\n",
    "system_model.execute()\n",
    "out = system_model.Outputs.export()\n",
    "\n",
    "ac = np.array(out[\"ac\"]) / 1000\n",
    "dc = np.array(out[\"dc\"]) / 1000\n",
    "\n",
    "predictions = pd.DataFrame(\n",
    "    {\"ac\": ac, \"dc\": dc, \"aoi\": np.array(out[\"aoi\"])}, columns=[\"ac\", \"dc\", \"aoi\"]\n",
    ")\n",
    "predictions = predictions.set_index(data.index.copy())"
   ]
  },
  {
   "cell_type": "code",
   "execution_count": null,
   "metadata": {},
   "outputs": [],
   "source": [
    "fig, ax = plt.subplots()\n",
    "ax.plot(predictions[\"ac\"], \"-\", label=\"Predicted energy\")\n",
    "ax.plot(data[\"Energy (kW)\"], \"-\", label=\"Actual energy\")\n",
    "ax.legend()\n",
    "plt.ylabel(\"Energy (kW)\")"
   ]
  },
  {
   "cell_type": "code",
   "execution_count": null,
   "metadata": {},
   "outputs": [],
   "source": [
    "fig, ax = plt.subplots()\n",
    "ax.plot(predictions[\"aoi\"])\n",
    "plt.ylabel(\"Angle of Incidence\")"
   ]
  },
  {
   "cell_type": "markdown",
   "metadata": {},
   "source": [
    "Looks good so let's save the interpolated data as a csv"
   ]
  },
  {
   "cell_type": "code",
   "execution_count": null,
   "metadata": {},
   "outputs": [],
   "source": [
    "data.to_csv(\"NonAnnualSimulation-sample_data-interpolated.csv\")\n",
    "data_resampled_filled.to_csv(\"NonAnnualSimulation-sample_data-interpolated-daytime.csv\")"
   ]
  },
  {
   "cell_type": "code",
   "execution_count": null,
   "metadata": {},
   "outputs": [],
   "source": [
    "test_data_interp = pd.read_csv(\"NonAnnualSimulation-sample_data-interpolated.csv\")\n",
    "test_data_interp[\"Timestamp\"] = pd.DatetimeIndex(\n",
    "    pd.to_datetime(test_data_interp[\"Timestamp\"], format=\"ISO8601\", utc=True)\n",
    ")\n",
    "test_data_interp = test_data_interp.set_index(\"Timestamp\")\n",
    "test_data_interp.head()"
   ]
  },
  {
   "cell_type": "code",
   "execution_count": null,
   "metadata": {},
   "outputs": [],
   "source": [
    "test_data_interp.info()"
   ]
  },
  {
   "cell_type": "code",
   "execution_count": null,
   "metadata": {},
   "outputs": [],
   "source": [
    "data.info()"
   ]
  },
  {
   "cell_type": "code",
   "execution_count": null,
   "metadata": {},
   "outputs": [],
   "source": [
    "data.index[-1] - data.index[0]"
   ]
  },
  {
   "cell_type": "code",
   "execution_count": null,
   "metadata": {},
   "outputs": [],
   "source": [
    "# plot original data vs interpolated data read in from csv\n",
    "for col in data.columns:\n",
    "    fig, ax = plt.subplots(figsize=[6, 3], dpi=250)\n",
    "    ax.plot(data[col], \"-\", label=\"original\")\n",
    "    # ax.plot(data_resampled['SRRL BMS Direct Normal Irradiance (W/m²_irr)'],'.', label='resampled')\n",
    "    ax.plot(test_data_interp[col], \"--\", label=\"interp\")\n",
    "    ax.set_ylabel(col)\n",
    "    ax.legend()"
   ]
  },
  {
   "cell_type": "code",
   "execution_count": null,
   "metadata": {},
   "outputs": [],
   "source": []
  }
 ],
 "metadata": {
  "kernelspec": {
   "display_name": "Python 3.10.4 64-bit",
   "language": "python",
   "name": "python3"
  },
  "language_info": {
   "codemirror_mode": {
    "name": "ipython",
    "version": 3
   },
   "file_extension": ".py",
   "mimetype": "text/x-python",
   "name": "python",
   "nbconvert_exporter": "python",
   "pygments_lexer": "ipython3",
   "version": "3.10.4"
  },
  "vscode": {
   "interpreter": {
    "hash": "26de051ba29f2982a8de78e945f0abaf191376122a1563185a90213a26c5da77"
   }
  }
 },
 "nbformat": 4,
 "nbformat_minor": 4
}
