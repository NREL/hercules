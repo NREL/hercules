{
 "cells": [
  {
   "cell_type": "code",
   "execution_count": 3,
   "metadata": {},
   "outputs": [],
   "source": [
    "# scratch\n",
    "import pandas as pd\n",
    "solar_dict = {\n",
    "    \"weather_data_input\": {\n",
    "        \"Timestamp\": ['2018-05-10 12:31:00+00:00'],\n",
    "        \"SRRL BMS Direct Normal Irradiance (W/m²_irr)\": [330.8601989746094],\n",
    "        \"SRRL BMS Diffuse Horizontal Irradiance (W/m²_irr)\": [68.23037719726561],\n",
    "        \"SRRL BMS Global Horizontal Irradiance (W/m²_irr)\": [68.23037719726561],\n",
    "        \"SRRL BMS Wind Speed at 19' (m/s)\": [0.4400002620664621],\n",
    "        \"SRRL BMS Dry Bulb Temperature (°C)\": [11.990000406901045],\n",
    "    },\n",
    "\n",
    "    \"system_info_file_name\": '100MW_1axis_pvsamv1.json',\n",
    "    # \"system_info_file_name\": None,\n",
    "    \"lat\": 39.7442, \n",
    "    \"lon\": -105.1778, \n",
    "    \"elev\": 1829,\n",
    "    \"initial_conditions\": {\n",
    "        \"power\": 25, \n",
    "        \"dni\": 1000 # direct normal irradiance\n",
    "    },\n",
    "\n",
    "    \"power_setpoints\": {\"time_s\": 0.0, \"power_mw\": 10.}\n",
    "}"
   ]
  },
  {
   "cell_type": "code",
   "execution_count": 8,
   "metadata": {},
   "outputs": [
    {
     "data": {
      "text/plain": [
       "10.0"
      ]
     },
     "execution_count": 8,
     "metadata": {},
     "output_type": "execute_result"
    }
   ],
   "source": [
    "power_setpoints = pd.DataFrame([solar_dict[\"power_setpoints\"]])\n",
    "power_setpoints.loc[power_setpoints['time_s']==0.0]['power_mw'].values[0]"
   ]
  },
  {
   "cell_type": "code",
   "execution_count": 4,
   "metadata": {},
   "outputs": [
    {
     "data": {
      "text/html": [
       "<div>\n",
       "<style scoped>\n",
       "    .dataframe tbody tr th:only-of-type {\n",
       "        vertical-align: middle;\n",
       "    }\n",
       "\n",
       "    .dataframe tbody tr th {\n",
       "        vertical-align: top;\n",
       "    }\n",
       "\n",
       "    .dataframe thead th {\n",
       "        text-align: right;\n",
       "    }\n",
       "</style>\n",
       "<table border=\"1\" class=\"dataframe\">\n",
       "  <thead>\n",
       "    <tr style=\"text-align: right;\">\n",
       "      <th></th>\n",
       "      <th>time_s</th>\n",
       "      <th>power_mw</th>\n",
       "    </tr>\n",
       "  </thead>\n",
       "  <tbody>\n",
       "    <tr>\n",
       "      <th>0</th>\n",
       "      <td>0.0</td>\n",
       "      <td>10.0</td>\n",
       "    </tr>\n",
       "  </tbody>\n",
       "</table>\n",
       "</div>"
      ],
      "text/plain": [
       "   time_s  power_mw\n",
       "0     0.0      10.0"
      ]
     },
     "execution_count": 4,
     "metadata": {},
     "output_type": "execute_result"
    }
   ],
   "source": [
    "solar_dict = {\"power_setpoints\": {\"time_s\": 0.0, \"power_mw\": 10.}}\n",
    "power_setpoints = pd.DataFrame([solar_dict[\"power_setpoints\"]])\n",
    "power_setpoints"
   ]
  },
  {
   "cell_type": "code",
   "execution_count": 7,
   "metadata": {},
   "outputs": [
    {
     "data": {
      "text/html": [
       "<div>\n",
       "<style scoped>\n",
       "    .dataframe tbody tr th:only-of-type {\n",
       "        vertical-align: middle;\n",
       "    }\n",
       "\n",
       "    .dataframe tbody tr th {\n",
       "        vertical-align: top;\n",
       "    }\n",
       "\n",
       "    .dataframe thead th {\n",
       "        text-align: right;\n",
       "    }\n",
       "</style>\n",
       "<table border=\"1\" class=\"dataframe\">\n",
       "  <thead>\n",
       "    <tr style=\"text-align: right;\">\n",
       "      <th></th>\n",
       "      <th>time_s</th>\n",
       "      <th>power_mw</th>\n",
       "    </tr>\n",
       "  </thead>\n",
       "  <tbody>\n",
       "    <tr>\n",
       "      <th>0</th>\n",
       "      <td>0.0</td>\n",
       "      <td>10.0</td>\n",
       "    </tr>\n",
       "    <tr>\n",
       "      <th>1</th>\n",
       "      <td>0.5</td>\n",
       "      <td>11.0</td>\n",
       "    </tr>\n",
       "    <tr>\n",
       "      <th>2</th>\n",
       "      <td>1.0</td>\n",
       "      <td>12.0</td>\n",
       "    </tr>\n",
       "  </tbody>\n",
       "</table>\n",
       "</div>"
      ],
      "text/plain": [
       "   time_s  power_mw\n",
       "0     0.0      10.0\n",
       "1     0.5      11.0\n",
       "2     1.0      12.0"
      ]
     },
     "execution_count": 7,
     "metadata": {},
     "output_type": "execute_result"
    }
   ],
   "source": [
    "solar_dict = {\"power_setpoints\": {\"time_s\": [0.0, 0.5, 1.0], \n",
    "                                  \"power_mw\": [10., 11., 12.]}}\n",
    "power_setpoints = pd.DataFrame.from_dict(solar_dict[\"power_setpoints\"])\n",
    "power_setpoints"
   ]
  },
  {
   "cell_type": "code",
   "execution_count": 5,
   "metadata": {},
   "outputs": [
    {
     "data": {
      "text/plain": [
       "1"
      ]
     },
     "execution_count": 5,
     "metadata": {},
     "output_type": "execute_result"
    }
   ],
   "source": [
    "solar_dict = {\"power_setpoints\": {\"time_s\": 0.0, \"power_mw\": 10.}}\n",
    "len([solar_dict['power_setpoints']['time_s']])"
   ]
  },
  {
   "cell_type": "code",
   "execution_count": null,
   "metadata": {},
   "outputs": [],
   "source": [
    "sim_time_s = 1.5\n",
    "solar_dict = {\"power_setpoints\": {\"time_s\": [0.0, 0.5, 1.0], \n",
    "                                  \"power_mw\": [10., 11., 12.]}}\n",
    "power_setpoints = pd.DataFrame.from_dict(solar_dict[\"power_setpoints\"])\n",
    "\n",
    "P_setpoint = power_setpoints.loc[power_setpoints['time_s']==sim_time_s]['power_mw'].values[0]\n"
   ]
  }
 ],
 "metadata": {
  "kernelspec": {
   "display_name": "pvade-pvlib",
   "language": "python",
   "name": "python3"
  },
  "language_info": {
   "codemirror_mode": {
    "name": "ipython",
    "version": 3
   },
   "file_extension": ".py",
   "mimetype": "text/x-python",
   "name": "python",
   "nbconvert_exporter": "python",
   "pygments_lexer": "ipython3",
   "version": "3.10.13"
  }
 },
 "nbformat": 4,
 "nbformat_minor": 2
}
