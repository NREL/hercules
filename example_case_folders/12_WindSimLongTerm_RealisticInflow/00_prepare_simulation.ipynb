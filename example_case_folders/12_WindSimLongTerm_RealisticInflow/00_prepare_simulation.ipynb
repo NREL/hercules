{
 "cells": [
  {
   "cell_type": "markdown",
   "metadata": {},
   "source": [
    "# Prepare simulation"
   ]
  },
  {
   "cell_type": "markdown",
   "metadata": {},
   "source": [
    "Generate a wind history for demonstration using the example FLORIS model based on the original inputs provided by Andrew"
   ]
  },
  {
   "cell_type": "code",
   "execution_count": 3,
   "metadata": {},
   "outputs": [],
   "source": [
    "from pathlib import Path\n",
    "\n",
    "import matplotlib.pyplot as plt\n",
    "import numpy as np\n",
    "import pandas as pd\n",
    "from pyproj import Transformer\n",
    "from scipy.stats import circmean"
   ]
  },
  {
   "cell_type": "markdown",
   "metadata": {},
   "source": [
    "## Parameters"
   ]
  },
  {
   "cell_type": "code",
   "execution_count": 4,
   "metadata": {},
   "outputs": [],
   "source": [
    "wind_resource_folder = Path(\"inputs/wind_resource_rex\")\n",
    "\n",
    "# Upsampled time step\n",
    "final_time_step = 1 # in seconds\n",
    "\n",
    "# Months of simulation (to save time for now in example)\n",
    "months = 1"
   ]
  },
  {
   "cell_type": "markdown",
   "metadata": {},
   "source": [
    "### Design the layout"
   ]
  },
  {
   "cell_type": "code",
   "execution_count": 5,
   "metadata": {},
   "outputs": [
    {
     "data": {
      "application/vnd.microsoft.datawrangler.viewer.v0+json": {
       "columns": [
        {
         "name": "index",
         "rawType": "int64",
         "type": "integer"
        },
        {
         "name": "id",
         "rawType": "int64",
         "type": "integer"
        },
        {
         "name": "lat",
         "rawType": "float64",
         "type": "float"
        },
        {
         "name": "lon",
         "rawType": "float64",
         "type": "float"
        }
       ],
       "conversionMethod": "pd.DataFrame",
       "ref": "ce7ccff0-f430-41e4-9b1f-cc47282deea0",
       "rows": [
        [
         "0",
         "2271221",
         "36.515816",
         "-97.58783"
        ],
        [
         "1",
         "2271222",
         "36.534218",
         "-97.58771"
        ],
        [
         "2",
         "2271223",
         "36.552628",
         "-97.587616"
        ],
        [
         "3",
         "2271224",
         "36.57103",
         "-97.587494"
        ],
        [
         "4",
         "2271225",
         "36.589436",
         "-97.58737"
        ],
        [
         "5",
         "2271226",
         "36.60784",
         "-97.58725"
        ],
        [
         "6",
         "2271227",
         "36.626244",
         "-97.58713"
        ],
        [
         "7",
         "2271228",
         "36.644653",
         "-97.587006"
        ],
        [
         "8",
         "2271229",
         "36.663067",
         "-97.586914"
        ],
        [
         "9",
         "2271230",
         "36.681484",
         "-97.58679"
        ],
        [
         "10",
         "2271231",
         "36.699883",
         "-97.58667"
        ],
        [
         "11",
         "2273170",
         "36.51572",
         "-97.56494"
        ],
        [
         "12",
         "2273171",
         "36.53412",
         "-97.56482"
        ],
        [
         "13",
         "2273172",
         "36.552525",
         "-97.5647"
        ],
        [
         "14",
         "2273173",
         "36.570934",
         "-97.564575"
        ],
        [
         "15",
         "2273174",
         "36.589336",
         "-97.56445"
        ],
        [
         "16",
         "2273175",
         "36.607742",
         "-97.56433"
        ],
        [
         "17",
         "2273176",
         "36.62615",
         "-97.56421"
        ],
        [
         "18",
         "2273177",
         "36.644558",
         "-97.56409"
        ],
        [
         "19",
         "2273178",
         "36.66297",
         "-97.563965"
        ],
        [
         "20",
         "2273179",
         "36.681374",
         "-97.56381"
        ],
        [
         "21",
         "2273180",
         "36.699783",
         "-97.56369"
        ],
        [
         "22",
         "2275119",
         "36.515617",
         "-97.54205"
        ],
        [
         "23",
         "2275120",
         "36.534016",
         "-97.54193"
        ],
        [
         "24",
         "2275121",
         "36.552425",
         "-97.54178"
        ],
        [
         "25",
         "2275122",
         "36.570827",
         "-97.54166"
        ],
        [
         "26",
         "2275123",
         "36.58923",
         "-97.541534"
        ],
        [
         "27",
         "2275124",
         "36.60763",
         "-97.54138"
        ],
        [
         "28",
         "2275125",
         "36.62604",
         "-97.54126"
        ],
        [
         "29",
         "2275126",
         "36.64446",
         "-97.54114"
        ],
        [
         "30",
         "2275127",
         "36.662865",
         "-97.541016"
        ],
        [
         "31",
         "2275128",
         "36.681274",
         "-97.54086"
        ],
        [
         "32",
         "2275129",
         "36.699684",
         "-97.54074"
        ],
        [
         "33",
         "2277068",
         "36.51552",
         "-97.519165"
        ],
        [
         "34",
         "2277069",
         "36.533913",
         "-97.51901"
        ],
        [
         "35",
         "2277070",
         "36.55232",
         "-97.51886"
        ],
        [
         "36",
         "2277071",
         "36.57072",
         "-97.51874"
        ],
        [
         "37",
         "2277072",
         "36.589134",
         "-97.518616"
        ],
        [
         "38",
         "2277073",
         "36.60753",
         "-97.51846"
        ],
        [
         "39",
         "2277074",
         "36.625942",
         "-97.51831"
        ],
        [
         "40",
         "2277075",
         "36.644344",
         "-97.51819"
        ],
        [
         "41",
         "2277076",
         "36.662754",
         "-97.51807"
        ],
        [
         "42",
         "2277077",
         "36.68116",
         "-97.517914"
        ],
        [
         "43",
         "2277078",
         "36.69958",
         "-97.51776"
        ],
        [
         "44",
         "2279017",
         "36.5154",
         "-97.49625"
        ],
        [
         "45",
         "2279018",
         "36.5338",
         "-97.49609"
        ],
        [
         "46",
         "2279019",
         "36.5522",
         "-97.49597"
        ],
        [
         "47",
         "2279020",
         "36.5706",
         "-97.49582"
        ],
        [
         "48",
         "2279021",
         "36.589012",
         "-97.49567"
        ],
        [
         "49",
         "2279022",
         "36.607414",
         "-97.495544"
        ]
       ],
       "shape": {
        "columns": 3,
        "rows": 100
       }
      },
      "text/html": [
       "<div>\n",
       "<style scoped>\n",
       "    .dataframe tbody tr th:only-of-type {\n",
       "        vertical-align: middle;\n",
       "    }\n",
       "\n",
       "    .dataframe tbody tr th {\n",
       "        vertical-align: top;\n",
       "    }\n",
       "\n",
       "    .dataframe thead th {\n",
       "        text-align: right;\n",
       "    }\n",
       "</style>\n",
       "<table border=\"1\" class=\"dataframe\">\n",
       "  <thead>\n",
       "    <tr style=\"text-align: right;\">\n",
       "      <th></th>\n",
       "      <th>id</th>\n",
       "      <th>lat</th>\n",
       "      <th>lon</th>\n",
       "    </tr>\n",
       "  </thead>\n",
       "  <tbody>\n",
       "    <tr>\n",
       "      <th>0</th>\n",
       "      <td>2271221</td>\n",
       "      <td>36.515816</td>\n",
       "      <td>-97.587830</td>\n",
       "    </tr>\n",
       "    <tr>\n",
       "      <th>1</th>\n",
       "      <td>2271222</td>\n",
       "      <td>36.534218</td>\n",
       "      <td>-97.587710</td>\n",
       "    </tr>\n",
       "    <tr>\n",
       "      <th>2</th>\n",
       "      <td>2271223</td>\n",
       "      <td>36.552628</td>\n",
       "      <td>-97.587616</td>\n",
       "    </tr>\n",
       "    <tr>\n",
       "      <th>3</th>\n",
       "      <td>2271224</td>\n",
       "      <td>36.571030</td>\n",
       "      <td>-97.587494</td>\n",
       "    </tr>\n",
       "    <tr>\n",
       "      <th>4</th>\n",
       "      <td>2271225</td>\n",
       "      <td>36.589436</td>\n",
       "      <td>-97.587370</td>\n",
       "    </tr>\n",
       "    <tr>\n",
       "      <th>...</th>\n",
       "      <td>...</td>\n",
       "      <td>...</td>\n",
       "      <td>...</td>\n",
       "    </tr>\n",
       "    <tr>\n",
       "      <th>95</th>\n",
       "      <td>2286820</td>\n",
       "      <td>36.643730</td>\n",
       "      <td>-97.403470</td>\n",
       "    </tr>\n",
       "    <tr>\n",
       "      <th>96</th>\n",
       "      <td>2286821</td>\n",
       "      <td>36.662140</td>\n",
       "      <td>-97.403320</td>\n",
       "    </tr>\n",
       "    <tr>\n",
       "      <th>97</th>\n",
       "      <td>2286822</td>\n",
       "      <td>36.680546</td>\n",
       "      <td>-97.403140</td>\n",
       "    </tr>\n",
       "    <tr>\n",
       "      <th>98</th>\n",
       "      <td>2286823</td>\n",
       "      <td>36.698950</td>\n",
       "      <td>-97.402954</td>\n",
       "    </tr>\n",
       "    <tr>\n",
       "      <th>99</th>\n",
       "      <td>2288762</td>\n",
       "      <td>36.514750</td>\n",
       "      <td>-97.381775</td>\n",
       "    </tr>\n",
       "  </tbody>\n",
       "</table>\n",
       "<p>100 rows × 3 columns</p>\n",
       "</div>"
      ],
      "text/plain": [
       "         id        lat        lon\n",
       "0   2271221  36.515816 -97.587830\n",
       "1   2271222  36.534218 -97.587710\n",
       "2   2271223  36.552628 -97.587616\n",
       "3   2271224  36.571030 -97.587494\n",
       "4   2271225  36.589436 -97.587370\n",
       "..      ...        ...        ...\n",
       "95  2286820  36.643730 -97.403470\n",
       "96  2286821  36.662140 -97.403320\n",
       "97  2286822  36.680546 -97.403140\n",
       "98  2286823  36.698950 -97.402954\n",
       "99  2288762  36.514750 -97.381775\n",
       "\n",
       "[100 rows x 3 columns]"
      ]
     },
     "execution_count": 5,
     "metadata": {},
     "output_type": "execute_result"
    }
   ],
   "source": [
    "# Load the grid of points\n",
    "df_grid = pd.read_csv(wind_resource_folder / \"wtk-led_coords.csv\")\n",
    "df_grid.columns = [\"id\", \"lat\", \"lon\"]\n",
    "df_grid"
   ]
  },
  {
   "cell_type": "code",
   "execution_count": 6,
   "metadata": {},
   "outputs": [],
   "source": [
    "# Convert lat/lon to easting and westing\n",
    "def latlon_to_utm(lat, lon):\n",
    "    utm_zone = int((lon + 180) / 6) + 1  # Determine UTM zone\n",
    "    hemisphere = \"north\" if lat >= 0 else \"south\"\n",
    "    proj_str = f\"epsg:326{utm_zone}\" if hemisphere == \"north\" else f\"epsg:327{utm_zone}\"\n",
    "    transformer = Transformer.from_crs(\"epsg:4326\", proj_str, always_xy=True)\n",
    "    return transformer.transform(lon, lat)\n",
    "\n",
    "\n",
    "# Apply transformation\n",
    "df_grid[[\"easting\", \"northing\"]] = df_grid.apply(\n",
    "    lambda row: latlon_to_utm(row[\"lat\"], row[\"lon\"]), axis=1, result_type=\"expand\"\n",
    ")"
   ]
  },
  {
   "cell_type": "code",
   "execution_count": 7,
   "metadata": {},
   "outputs": [
    {
     "data": {
      "text/plain": [
       "<matplotlib.collections.PathCollection at 0x16dedb490>"
      ]
     },
     "execution_count": 7,
     "metadata": {},
     "output_type": "execute_result"
    },
    {
     "data": {
      "image/png": "[encoded data removed]",
      "text/plain": [
       "<Figure size 640x480 with 1 Axes>"
      ]
     },
     "metadata": {},
     "output_type": "display_data"
    }
   ],
   "source": [
    "# Plot the grid\n",
    "fig, ax = plt.subplots()\n",
    "ax.scatter(df_grid.easting, df_grid.northing, s=1)"
   ]
  },
  {
   "cell_type": "code",
   "execution_count": 8,
   "metadata": {},
   "outputs": [
    {
     "data": {
      "text/plain": [
       "2246.4086022007978"
      ]
     },
     "execution_count": 8,
     "metadata": {},
     "output_type": "execute_result"
    }
   ],
   "source": [
    "# What is the spacing of the grid in meters?\n",
    "df_grid[\"easting\"].diff().abs().max()"
   ]
  },
  {
   "cell_type": "markdown",
   "metadata": {},
   "source": [
    "# Design a farm with 9 turbines place within the grid"
   ]
  },
  {
   "cell_type": "code",
   "execution_count": 9,
   "metadata": {},
   "outputs": [
    {
     "data": {
      "text/plain": [
       "<matplotlib.legend.Legend at 0x16e1d3650>"
      ]
     },
     "execution_count": 9,
     "metadata": {},
     "output_type": "execute_result"
    },
    {
     "data": {
      "image/png": "[encoded data removed]",
      "text/plain": [
       "<Figure size 640x480 with 1 Axes>"
      ]
     },
     "metadata": {},
     "output_type": "display_data"
    }
   ],
   "source": [
    "D = 126.0\n",
    "n_turbines = 9\n",
    "np.random.seed(3)  #  Fix the seed for reproducibility\n",
    "min_x = df_grid.easting.min()\n",
    "max_x = df_grid.easting.max()\n",
    "min_y = df_grid.northing.min()\n",
    "max_y = df_grid.northing.max()\n",
    "\n",
    "# Distribute the x values evenly and the y values randomly\n",
    "layout_x = np.linspace(min_x, max_x, n_turbines)\n",
    "layout_y = np.random.uniform(min_y, max_y, n_turbines)\n",
    "\n",
    "# Create the layout\n",
    "fig, ax = plt.subplots()\n",
    "ax.scatter(df_grid.easting, df_grid.northing, s=1)\n",
    "ax.scatter(layout_x, layout_y, s=100, color=\"red\", label=\"Turbines\")\n",
    "ax.legend()"
   ]
  },
  {
   "cell_type": "markdown",
   "metadata": {},
   "source": [
    "## Print out  layout in FLORIS ready format\n",
    "\n",
    "Then copy over to FLORIS input file (note this is already done)"
   ]
  },
  {
   "cell_type": "code",
   "execution_count": 10,
   "metadata": {},
   "outputs": [
    {
     "name": "stdout",
     "output_type": "stream",
     "text": [
      "  layout_x:\n",
      "  - 626248.7\n",
      "  - 628580.0\n",
      "  - 630911.2\n",
      "  - 633242.5\n",
      "  - 635573.7\n",
      "  - 637905.0\n",
      "  - 640236.2\n",
      "  - 642567.5\n",
      "  - 644898.8\n",
      "  layout_y:\n",
      "  - 4053422.7\n",
      "  - 4056660.2\n",
      "  - 4048075.3\n",
      "  - 4052600.3\n",
      "  - 4060462.5\n",
      "  - 4060531.3\n",
      "  - 4044673.8\n",
      "  - 4046353.9\n",
      "  - 4043148.8\n"
     ]
    }
   ],
   "source": [
    "print(\"  layout_x:\")\n",
    "for x in layout_x:\n",
    "    print(f\"  - {x:.1f}\")\n",
    "\n",
    "print(\"  layout_y:\")\n",
    "for y in layout_y:\n",
    "    print(f\"  - {y:.1f}\")"
   ]
  },
  {
   "cell_type": "markdown",
   "metadata": {},
   "source": [
    "## For each turbine find the 4 nearest points according to df_grid and their distances"
   ]
  },
  {
   "cell_type": "code",
   "execution_count": 11,
   "metadata": {},
   "outputs": [
    {
     "name": "stdout",
     "output_type": "stream",
     "text": [
      "  - turbine 0:\n",
      "    - id: 2271227, distance: 921.8, weight: 0.39\n",
      "    - id: 2271226, distance: 1127.7, weight: 0.31\n",
      "    - id: 2273176, distance: 2326.5, weight: 0.15\n",
      "    - id: 2273175, distance: 2415.6, weight: 0.15\n",
      "  - turbine 1:\n",
      "    - id: 2273177, distance: 339.7, weight: 0.66\n",
      "    - id: 2273178, distance: 1802.1, weight: 0.12\n",
      "    - id: 2275126, distance: 1844.8, weight: 0.12\n",
      "    - id: 2271228, distance: 2287.8, weight: 0.10\n",
      "  - turbine 2:\n",
      "    - id: 2275122, distance: 460.3, weight: 0.58\n",
      "    - id: 2277071, distance: 1639.0, weight: 0.16\n",
      "    - id: 2275121, distance: 1906.1, weight: 0.14\n",
      "    - id: 2275123, distance: 2264.5, weight: 0.12\n",
      "  - turbine 3:\n",
      "    - id: 2277073, distance: 780.9, weight: 0.43\n",
      "    - id: 2279022, distance: 1326.6, weight: 0.25\n",
      "    - id: 2277074, distance: 1954.0, weight: 0.17\n",
      "    - id: 2279023, distance: 2230.1, weight: 0.15\n",
      "  - turbine 4:\n",
      "    - id: 2280975, distance: 959.2, weight: 0.36\n",
      "    - id: 2279026, distance: 1103.1, weight: 0.32\n",
      "    - id: 2280974, distance: 2168.5, weight: 0.16\n",
      "    - id: 2279025, distance: 2237.3, weight: 0.16\n",
      "  - turbine 5:\n",
      "    - id: 2282924, distance: 675.4, weight: 0.47\n",
      "    - id: 2280975, distance: 1378.0, weight: 0.23\n",
      "    - id: 2282923, distance: 2104.8, weight: 0.15\n",
      "    - id: 2282925, distance: 2196.1, weight: 0.15\n",
      "  - turbine 6:\n",
      "    - id: 2284865, distance: 678.7, weight: 0.47\n",
      "    - id: 2282916, distance: 1568.5, weight: 0.20\n",
      "    - id: 2284866, distance: 1716.9, weight: 0.19\n",
      "    - id: 2282917, distance: 2222.1, weight: 0.14\n",
      "  - turbine 7:\n",
      "    - id: 2286815, distance: 244.9, weight: 0.73\n",
      "    - id: 2284866, distance: 1808.4, weight: 0.10\n",
      "    - id: 2286816, distance: 2027.3, weight: 0.09\n",
      "    - id: 2286814, distance: 2085.9, weight: 0.09\n",
      "  - turbine 8:\n",
      "    - id: 2288762, distance: 886.8, weight: 0.50\n",
      "    - id: 2286813, distance: 2240.4, weight: 0.20\n",
      "    - id: 2286814, distance: 2358.9, weight: 0.19\n",
      "    - id: 2286815, distance: 3803.3, weight: 0.12\n"
     ]
    }
   ],
   "source": [
    "# For each turbine defined by layout_x/layout_y find the 4 nearest points according \n",
    "# to df_grid and their distances\n",
    "df_ = df_grid.copy()\n",
    "res_dict = {}\n",
    "for t_i in range(n_turbines):\n",
    "    x = layout_x[t_i]\n",
    "    y = layout_y[t_i]\n",
    "    df_[\"distances\"] = np.sqrt((df_grid.easting - x) ** 2 + (df_grid.northing - y) ** 2)\n",
    "    df_ = df_.sort_values(\"distances\")\n",
    "    indices = df_.head(4)[\"id\"]\n",
    "    distances = df_.head(4)[\"distances\"]\n",
    "    weights = 1.0 / distances\n",
    "    weights /= weights.sum()\n",
    "    res_dict[t_i] = {\"indices\": indices, \"distances\": distances, \"weights\": weights}\n",
    "\n",
    "    print(f\"  - turbine {t_i}:\")\n",
    "    for i, d, w in zip(indices, distances, weights):\n",
    "        print(f\"    - id: {i}, distance: {d:.1f}, weight: {w:.2f}\")"
   ]
  },
  {
   "cell_type": "code",
   "execution_count": 12,
   "metadata": {},
   "outputs": [
    {
     "data": {
      "image/png": "[encoded data removed]",
      "text/plain": [
       "<Figure size 640x480 with 1 Axes>"
      ]
     },
     "metadata": {},
     "output_type": "display_data"
    }
   ],
   "source": [
    "# Show the weight interpolation points\n",
    "fig, ax = plt.subplots()\n",
    "ax.scatter(df_grid.easting, df_grid.northing, s=1)\n",
    "ax.scatter(layout_x, layout_y, s=100, color=\"red\", label=\"Turbines\")\n",
    "ax.legend()\n",
    "\n",
    "for t_i in range(n_turbines):\n",
    "    x = layout_x[t_i]\n",
    "    y = layout_y[t_i]\n",
    "    indices = res_dict[t_i][\"indices\"]\n",
    "\n",
    "    for i in indices:\n",
    "        row = df_grid.loc[df_grid[\"id\"] == i]\n",
    "        ax.plot(\n",
    "            [x, row[\"easting\"].values[0]], [y, row[\"northing\"].values[0]], color=\"black\", alpha=0.1\n",
    "        )"
   ]
  },
  {
   "cell_type": "markdown",
   "metadata": {},
   "source": [
    "## Load the wind speed and direction data and project onto the turbine locations"
   ]
  },
  {
   "cell_type": "code",
   "execution_count": 13,
   "metadata": {},
   "outputs": [
    {
     "data": {
      "application/vnd.microsoft.datawrangler.viewer.v0+json": {
       "columns": [
        {
         "name": "index",
         "rawType": "int64",
         "type": "integer"
        },
        {
         "name": "time_index",
         "rawType": "object",
         "type": "string"
        },
        {
         "name": "2271221",
         "rawType": "float64",
         "type": "float"
        },
        {
         "name": "2271222",
         "rawType": "float64",
         "type": "float"
        },
        {
         "name": "2271223",
         "rawType": "float64",
         "type": "float"
        },
        {
         "name": "2271224",
         "rawType": "float64",
         "type": "float"
        },
        {
         "name": "2271225",
         "rawType": "float64",
         "type": "float"
        },
        {
         "name": "2271226",
         "rawType": "float64",
         "type": "float"
        },
        {
         "name": "2271227",
         "rawType": "float64",
         "type": "float"
        },
        {
         "name": "2271228",
         "rawType": "float64",
         "type": "float"
        },
        {
         "name": "2271229",
         "rawType": "float64",
         "type": "float"
        },
        {
         "name": "2271230",
         "rawType": "float64",
         "type": "float"
        },
        {
         "name": "2271231",
         "rawType": "float64",
         "type": "float"
        },
        {
         "name": "2273170",
         "rawType": "float64",
         "type": "float"
        },
        {
         "name": "2273171",
         "rawType": "float64",
         "type": "float"
        },
        {
         "name": "2273172",
         "rawType": "float64",
         "type": "float"
        },
        {
         "name": "2273173",
         "rawType": "float64",
         "type": "float"
        },
        {
         "name": "2273174",
         "rawType": "float64",
         "type": "float"
        },
        {
         "name": "2273175",
         "rawType": "float64",
         "type": "float"
        },
        {
         "name": "2273176",
         "rawType": "float64",
         "type": "float"
        },
        {
         "name": "2273177",
         "rawType": "float64",
         "type": "float"
        },
        {
         "name": "2273178",
         "rawType": "float64",
         "type": "float"
        },
        {
         "name": "2273179",
         "rawType": "float64",
         "type": "float"
        },
        {
         "name": "2273180",
         "rawType": "float64",
         "type": "float"
        },
        {
         "name": "2275119",
         "rawType": "float64",
         "type": "float"
        },
        {
         "name": "2275120",
         "rawType": "float64",
         "type": "float"
        },
        {
         "name": "2275121",
         "rawType": "float64",
         "type": "float"
        },
        {
         "name": "2275122",
         "rawType": "float64",
         "type": "float"
        },
        {
         "name": "2275123",
         "rawType": "float64",
         "type": "float"
        },
        {
         "name": "2275124",
         "rawType": "float64",
         "type": "float"
        },
        {
         "name": "2275125",
         "rawType": "float64",
         "type": "float"
        },
        {
         "name": "2275126",
         "rawType": "float64",
         "type": "float"
        },
        {
         "name": "2275127",
         "rawType": "float64",
         "type": "float"
        },
        {
         "name": "2275128",
         "rawType": "float64",
         "type": "float"
        },
        {
         "name": "2275129",
         "rawType": "float64",
         "type": "float"
        },
        {
         "name": "2277068",
         "rawType": "float64",
         "type": "float"
        },
        {
         "name": "2277069",
         "rawType": "float64",
         "type": "float"
        },
        {
         "name": "2277070",
         "rawType": "float64",
         "type": "float"
        },
        {
         "name": "2277071",
         "rawType": "float64",
         "type": "float"
        },
        {
         "name": "2277072",
         "rawType": "float64",
         "type": "float"
        },
        {
         "name": "2277073",
         "rawType": "float64",
         "type": "float"
        },
        {
         "name": "2277074",
         "rawType": "float64",
         "type": "float"
        },
        {
         "name": "2277075",
         "rawType": "float64",
         "type": "float"
        },
        {
         "name": "2277076",
         "rawType": "float64",
         "type": "float"
        },
        {
         "name": "2277077",
         "rawType": "float64",
         "type": "float"
        },
        {
         "name": "2277078",
         "rawType": "float64",
         "type": "float"
        },
        {
         "name": "2279017",
         "rawType": "float64",
         "type": "float"
        },
        {
         "name": "2279018",
         "rawType": "float64",
         "type": "float"
        },
        {
         "name": "2279019",
         "rawType": "float64",
         "type": "float"
        },
        {
         "name": "2279020",
         "rawType": "float64",
         "type": "float"
        },
        {
         "name": "2279021",
         "rawType": "float64",
         "type": "float"
        },
        {
         "name": "2279022",
         "rawType": "float64",
         "type": "float"
        },
        {
         "name": "2279023",
         "rawType": "float64",
         "type": "float"
        },
        {
         "name": "2279024",
         "rawType": "float64",
         "type": "float"
        },
        {
         "name": "2279025",
         "rawType": "float64",
         "type": "float"
        },
        {
         "name": "2279026",
         "rawType": "float64",
         "type": "float"
        },
        {
         "name": "2279027",
         "rawType": "float64",
         "type": "float"
        },
        {
         "name": "2280966",
         "rawType": "float64",
         "type": "float"
        },
        {
         "name": "2280967",
         "rawType": "float64",
         "type": "float"
        },
        {
         "name": "2280968",
         "rawType": "float64",
         "type": "float"
        },
        {
         "name": "2280969",
         "rawType": "float64",
         "type": "float"
        },
        {
         "name": "2280970",
         "rawType": "float64",
         "type": "float"
        },
        {
         "name": "2280971",
         "rawType": "float64",
         "type": "float"
        },
        {
         "name": "2280972",
         "rawType": "float64",
         "type": "float"
        },
        {
         "name": "2280973",
         "rawType": "float64",
         "type": "float"
        },
        {
         "name": "2280974",
         "rawType": "float64",
         "type": "float"
        },
        {
         "name": "2280975",
         "rawType": "float64",
         "type": "float"
        },
        {
         "name": "2280976",
         "rawType": "float64",
         "type": "float"
        },
        {
         "name": "2282915",
         "rawType": "float64",
         "type": "float"
        },
        {
         "name": "2282916",
         "rawType": "float64",
         "type": "float"
        },
        {
         "name": "2282917",
         "rawType": "float64",
         "type": "float"
        },
        {
         "name": "2282918",
         "rawType": "float64",
         "type": "float"
        },
        {
         "name": "2282919",
         "rawType": "float64",
         "type": "float"
        },
        {
         "name": "2282920",
         "rawType": "float64",
         "type": "float"
        },
        {
         "name": "2282921",
         "rawType": "float64",
         "type": "float"
        },
        {
         "name": "2282922",
         "rawType": "float64",
         "type": "float"
        },
        {
         "name": "2282923",
         "rawType": "float64",
         "type": "float"
        },
        {
         "name": "2282924",
         "rawType": "float64",
         "type": "float"
        },
        {
         "name": "2282925",
         "rawType": "float64",
         "type": "float"
        },
        {
         "name": "2284864",
         "rawType": "float64",
         "type": "float"
        },
        {
         "name": "2284865",
         "rawType": "float64",
         "type": "float"
        },
        {
         "name": "2284866",
         "rawType": "float64",
         "type": "float"
        },
        {
         "name": "2284867",
         "rawType": "float64",
         "type": "float"
        },
        {
         "name": "2284868",
         "rawType": "float64",
         "type": "float"
        },
        {
         "name": "2284869",
         "rawType": "float64",
         "type": "float"
        },
        {
         "name": "2284870",
         "rawType": "float64",
         "type": "float"
        },
        {
         "name": "2284871",
         "rawType": "float64",
         "type": "float"
        },
        {
         "name": "2284872",
         "rawType": "float64",
         "type": "float"
        },
        {
         "name": "2284873",
         "rawType": "float64",
         "type": "float"
        },
        {
         "name": "2284874",
         "rawType": "float64",
         "type": "float"
        },
        {
         "name": "2286813",
         "rawType": "float64",
         "type": "float"
        },
        {
         "name": "2286814",
         "rawType": "float64",
         "type": "float"
        },
        {
         "name": "2286815",
         "rawType": "float64",
         "type": "float"
        },
        {
         "name": "2286816",
         "rawType": "float64",
         "type": "float"
        },
        {
         "name": "2286817",
         "rawType": "float64",
         "type": "float"
        },
        {
         "name": "2286818",
         "rawType": "float64",
         "type": "float"
        },
        {
         "name": "2286819",
         "rawType": "float64",
         "type": "float"
        },
        {
         "name": "2286820",
         "rawType": "float64",
         "type": "float"
        },
        {
         "name": "2286821",
         "rawType": "float64",
         "type": "float"
        },
        {
         "name": "2286822",
         "rawType": "float64",
         "type": "float"
        },
        {
         "name": "2286823",
         "rawType": "float64",
         "type": "float"
        },
        {
         "name": "2288762",
         "rawType": "float64",
         "type": "float"
        }
       ],
       "conversionMethod": "pd.DataFrame",
       "ref": "6f1b2874-25b8-489f-887c-2d04533f0f58",
       "rows": [
        [
         "0",
         "2020-01-01 00:00:00+00:00",
         "5.23",
         "4.96",
         "4.81",
         "5.29",
         "6.02",
         "6.14",
         "5.89",
         "6.03",
         "6.54",
         "6.44",
         "5.34",
         "5.36",
         "5.13",
         "5.04",
         "5.47",
         "6.13",
         "6.21",
         "5.99",
         "6.08",
         "6.62",
         "5.74",
         "4.49",
         "5.48",
         "5.29",
         "5.25",
         "5.57",
         "6.16",
         "6.2",
         "6.01",
         "6.21",
         "6.34",
         "4.91",
         "4.01",
         "5.6",
         "5.45",
         "5.42",
         "5.64",
         "6.06",
         "6.18",
         "5.97",
         "6.32",
         "5.76",
         "4.28",
         "3.97",
         "5.71",
         "5.62",
         "5.58",
         "5.66",
         "5.95",
         "6.1",
         "6.03",
         "6.23",
         "5.06",
         "4.01",
         "4.2",
         "5.81",
         "5.78",
         "5.69",
         "5.62",
         "5.89",
         "5.98",
         "6.27",
         "5.82",
         "4.46",
         "4.05",
         "4.55",
         "5.92",
         "5.91",
         "5.73",
         "5.63",
         "5.88",
         "6.08",
         "6.34",
         "5.16",
         "4.13",
         "4.3",
         "4.92",
         "6.02",
         "5.98",
         "5.8",
         "5.73",
         "5.94",
         "6.29",
         "5.97",
         "4.6",
         "4.17",
         "4.64",
         "5.27",
         "6.14",
         "6.07",
         "5.95",
         "5.85",
         "6.06",
         "6.19",
         "5.3",
         "4.34",
         "4.43",
         "4.97",
         "5.54",
         "6.25"
        ],
        [
         "1",
         "2020-01-01 00:05:00+00:00",
         "5.04",
         "4.75",
         "4.59",
         "5.04",
         "5.79",
         "6.01",
         "5.74",
         "5.81",
         "6.21",
         "6.51",
         "5.9",
         "5.14",
         "4.92",
         "4.82",
         "5.24",
         "5.94",
         "6.14",
         "5.86",
         "5.86",
         "6.38",
         "6.13",
         "5.04",
         "5.26",
         "5.08",
         "5.03",
         "5.38",
         "6.03",
         "6.17",
         "5.93",
         "5.93",
         "6.37",
         "5.47",
         "4.32",
         "5.39",
         "5.25",
         "5.24",
         "5.51",
         "6.04",
         "6.15",
         "5.92",
         "6.09",
         "6.08",
         "4.79",
         "4.02",
         "5.52",
         "5.45",
         "5.44",
         "5.61",
         "5.94",
         "6.1",
         "5.88",
         "6.18",
         "5.57",
         "4.33",
         "4.07",
         "5.66",
         "5.64",
         "5.6",
         "5.63",
         "5.84",
         "5.97",
         "6.01",
         "6.07",
         "4.96",
         "4.14",
         "4.34",
         "5.78",
         "5.78",
         "5.7",
         "5.62",
         "5.82",
         "5.91",
         "6.25",
         "5.67",
         "4.43",
         "4.19",
         "4.68",
         "5.87",
         "5.87",
         "5.77",
         "5.68",
         "5.87",
         "6.09",
         "6.28",
         "5.15",
         "4.21",
         "4.43",
         "5.04",
         "5.97",
         "5.97",
         "5.89",
         "5.81",
         "5.96",
         "6.26",
         "5.91",
         "4.7",
         "4.31",
         "4.75",
         "5.33",
         "6.09"
        ],
        [
         "2",
         "2020-01-01 00:10:00+00:00",
         "4.89",
         "4.61",
         "4.45",
         "4.86",
         "5.57",
         "5.87",
         "5.65",
         "5.62",
         "5.93",
         "6.38",
         "6.27",
         "4.97",
         "4.76",
         "4.67",
         "5.06",
         "5.75",
         "6.03",
         "5.76",
         "5.69",
         "6.08",
         "6.29",
         "5.64",
         "5.08",
         "4.92",
         "4.87",
         "5.22",
         "5.86",
         "6.12",
         "5.85",
         "5.72",
         "6.19",
         "5.91",
         "4.87",
         "5.2",
         "5.09",
         "5.08",
         "5.36",
         "5.92",
         "6.11",
         "5.87",
         "5.83",
         "6.16",
         "5.35",
         "4.32",
         "5.34",
         "5.29",
         "5.31",
         "5.5",
         "5.88",
         "6.05",
         "5.81",
         "5.98",
         "5.91",
         "4.83",
         "4.13",
         "5.5",
         "5.5",
         "5.5",
         "5.57",
         "5.76",
         "5.95",
         "5.82",
         "6.06",
         "5.46",
         "4.46",
         "4.23",
         "5.64",
         "5.66",
         "5.62",
         "5.58",
         "5.72",
         "5.84",
         "6.02",
         "5.97",
         "4.91",
         "4.28",
         "4.47",
         "5.74",
         "5.77",
         "5.71",
         "5.61",
         "5.76",
         "5.89",
         "6.26",
         "5.69",
         "4.5",
         "4.31",
         "4.78",
         "5.83",
         "5.87",
         "5.82",
         "5.73",
         "5.86",
         "6.1",
         "6.26",
         "5.27",
         "4.37",
         "4.53",
         "5.08",
         "5.95"
        ],
        [
         "3",
         "2020-01-01 00:15:00+00:00",
         "4.79",
         "4.55",
         "4.36",
         "4.71",
         "5.36",
         "5.69",
         "5.56",
         "5.45",
         "5.71",
         "6.13",
         "6.32",
         "4.86",
         "4.68",
         "4.58",
         "4.92",
         "5.54",
         "5.87",
         "5.67",
         "5.55",
         "5.8",
         "6.21",
         "6.04",
         "4.95",
         "4.82",
         "4.77",
         "5.07",
         "5.66",
         "5.99",
         "5.76",
         "5.58",
         "5.92",
         "6.1",
         "5.44",
         "5.06",
         "4.98",
         "4.95",
         "5.2",
         "5.73",
         "6.02",
         "5.8",
         "5.61",
         "6.01",
         "5.78",
         "4.81",
         "5.19",
         "5.17",
         "5.17",
         "5.33",
         "5.74",
         "5.97",
         "5.76",
         "5.72",
         "5.99",
         "5.35",
         "4.4",
         "5.35",
         "5.37",
         "5.37",
         "5.42",
         "5.65",
         "5.88",
         "5.71",
         "5.88",
         "5.79",
         "4.93",
         "4.28",
         "5.5",
         "5.53",
         "5.5",
         "5.47",
         "5.58",
         "5.8",
         "5.8",
         "6.0",
         "5.41",
         "4.57",
         "4.36",
         "5.61",
         "5.66",
         "5.61",
         "5.51",
         "5.62",
         "5.78",
         "6.05",
         "6.01",
         "4.99",
         "4.37",
         "4.56",
         "5.71",
         "5.77",
         "5.73",
         "5.61",
         "5.74",
         "5.91",
         "6.28",
         "5.82",
         "4.69",
         "4.4",
         "4.81",
         "5.82"
        ],
        [
         "4",
         "2020-01-01 00:20:00+00:00",
         "4.75",
         "4.55",
         "4.35",
         "4.61",
         "5.17",
         "5.49",
         "5.42",
         "5.28",
         "5.5",
         "5.86",
         "6.12",
         "4.8",
         "4.66",
         "4.55",
         "4.82",
         "5.35",
         "5.67",
         "5.55",
         "5.4",
         "5.56",
         "5.97",
         "6.11",
         "4.87",
         "4.78",
         "4.73",
         "4.97",
         "5.46",
         "5.8",
         "5.64",
         "5.44",
         "5.63",
         "6.0",
         "5.81",
         "4.97",
         "4.92",
         "4.89",
         "5.07",
         "5.52",
         "5.85",
         "5.69",
         "5.44",
         "5.73",
         "5.91",
         "5.31",
         "5.09",
         "5.1",
         "5.08",
         "5.16",
         "5.53",
         "5.82",
         "5.69",
         "5.5",
         "5.82",
         "5.69",
         "4.83",
         "5.24",
         "5.27",
         "5.24",
         "5.23",
         "5.47",
         "5.75",
         "5.64",
         "5.64",
         "5.84",
         "5.37",
         "4.54",
         "5.38",
         "5.42",
         "5.35",
         "5.29",
         "5.42",
         "5.71",
         "5.67",
         "5.84",
         "5.72",
         "5.0",
         "4.43",
         "5.5",
         "5.53",
         "5.46",
         "5.37",
         "5.45",
         "5.72",
         "5.84",
         "6.04",
         "5.48",
         "4.66",
         "4.47",
         "5.6",
         "5.66",
         "5.6",
         "5.48",
         "5.59",
         "5.8",
         "6.1",
         "6.13",
         "5.19",
         "4.47",
         "4.6",
         "5.71"
        ]
       ],
       "shape": {
        "columns": 101,
        "rows": 5
       }
      },
      "text/html": [
       "<div>\n",
       "<style scoped>\n",
       "    .dataframe tbody tr th:only-of-type {\n",
       "        vertical-align: middle;\n",
       "    }\n",
       "\n",
       "    .dataframe tbody tr th {\n",
       "        vertical-align: top;\n",
       "    }\n",
       "\n",
       "    .dataframe thead th {\n",
       "        text-align: right;\n",
       "    }\n",
       "</style>\n",
       "<table border=\"1\" class=\"dataframe\">\n",
       "  <thead>\n",
       "    <tr style=\"text-align: right;\">\n",
       "      <th></th>\n",
       "      <th>time_index</th>\n",
       "      <th>2271221</th>\n",
       "      <th>2271222</th>\n",
       "      <th>2271223</th>\n",
       "      <th>2271224</th>\n",
       "      <th>2271225</th>\n",
       "      <th>2271226</th>\n",
       "      <th>2271227</th>\n",
       "      <th>2271228</th>\n",
       "      <th>2271229</th>\n",
       "      <th>...</th>\n",
       "      <th>2286815</th>\n",
       "      <th>2286816</th>\n",
       "      <th>2286817</th>\n",
       "      <th>2286818</th>\n",
       "      <th>2286819</th>\n",
       "      <th>2286820</th>\n",
       "      <th>2286821</th>\n",
       "      <th>2286822</th>\n",
       "      <th>2286823</th>\n",
       "      <th>2288762</th>\n",
       "    </tr>\n",
       "  </thead>\n",
       "  <tbody>\n",
       "    <tr>\n",
       "      <th>0</th>\n",
       "      <td>2020-01-01 00:00:00+00:00</td>\n",
       "      <td>5.23</td>\n",
       "      <td>4.96</td>\n",
       "      <td>4.81</td>\n",
       "      <td>5.29</td>\n",
       "      <td>6.02</td>\n",
       "      <td>6.14</td>\n",
       "      <td>5.89</td>\n",
       "      <td>6.03</td>\n",
       "      <td>6.54</td>\n",
       "      <td>...</td>\n",
       "      <td>5.95</td>\n",
       "      <td>5.85</td>\n",
       "      <td>6.06</td>\n",
       "      <td>6.19</td>\n",
       "      <td>5.30</td>\n",
       "      <td>4.34</td>\n",
       "      <td>4.43</td>\n",
       "      <td>4.97</td>\n",
       "      <td>5.54</td>\n",
       "      <td>6.25</td>\n",
       "    </tr>\n",
       "    <tr>\n",
       "      <th>1</th>\n",
       "      <td>2020-01-01 00:05:00+00:00</td>\n",
       "      <td>5.04</td>\n",
       "      <td>4.75</td>\n",
       "      <td>4.59</td>\n",
       "      <td>5.04</td>\n",
       "      <td>5.79</td>\n",
       "      <td>6.01</td>\n",
       "      <td>5.74</td>\n",
       "      <td>5.81</td>\n",
       "      <td>6.21</td>\n",
       "      <td>...</td>\n",
       "      <td>5.89</td>\n",
       "      <td>5.81</td>\n",
       "      <td>5.96</td>\n",
       "      <td>6.26</td>\n",
       "      <td>5.91</td>\n",
       "      <td>4.70</td>\n",
       "      <td>4.31</td>\n",
       "      <td>4.75</td>\n",
       "      <td>5.33</td>\n",
       "      <td>6.09</td>\n",
       "    </tr>\n",
       "    <tr>\n",
       "      <th>2</th>\n",
       "      <td>2020-01-01 00:10:00+00:00</td>\n",
       "      <td>4.89</td>\n",
       "      <td>4.61</td>\n",
       "      <td>4.45</td>\n",
       "      <td>4.86</td>\n",
       "      <td>5.57</td>\n",
       "      <td>5.87</td>\n",
       "      <td>5.65</td>\n",
       "      <td>5.62</td>\n",
       "      <td>5.93</td>\n",
       "      <td>...</td>\n",
       "      <td>5.82</td>\n",
       "      <td>5.73</td>\n",
       "      <td>5.86</td>\n",
       "      <td>6.10</td>\n",
       "      <td>6.26</td>\n",
       "      <td>5.27</td>\n",
       "      <td>4.37</td>\n",
       "      <td>4.53</td>\n",
       "      <td>5.08</td>\n",
       "      <td>5.95</td>\n",
       "    </tr>\n",
       "    <tr>\n",
       "      <th>3</th>\n",
       "      <td>2020-01-01 00:15:00+00:00</td>\n",
       "      <td>4.79</td>\n",
       "      <td>4.55</td>\n",
       "      <td>4.36</td>\n",
       "      <td>4.71</td>\n",
       "      <td>5.36</td>\n",
       "      <td>5.69</td>\n",
       "      <td>5.56</td>\n",
       "      <td>5.45</td>\n",
       "      <td>5.71</td>\n",
       "      <td>...</td>\n",
       "      <td>5.73</td>\n",
       "      <td>5.61</td>\n",
       "      <td>5.74</td>\n",
       "      <td>5.91</td>\n",
       "      <td>6.28</td>\n",
       "      <td>5.82</td>\n",
       "      <td>4.69</td>\n",
       "      <td>4.40</td>\n",
       "      <td>4.81</td>\n",
       "      <td>5.82</td>\n",
       "    </tr>\n",
       "    <tr>\n",
       "      <th>4</th>\n",
       "      <td>2020-01-01 00:20:00+00:00</td>\n",
       "      <td>4.75</td>\n",
       "      <td>4.55</td>\n",
       "      <td>4.35</td>\n",
       "      <td>4.61</td>\n",
       "      <td>5.17</td>\n",
       "      <td>5.49</td>\n",
       "      <td>5.42</td>\n",
       "      <td>5.28</td>\n",
       "      <td>5.50</td>\n",
       "      <td>...</td>\n",
       "      <td>5.60</td>\n",
       "      <td>5.48</td>\n",
       "      <td>5.59</td>\n",
       "      <td>5.80</td>\n",
       "      <td>6.10</td>\n",
       "      <td>6.13</td>\n",
       "      <td>5.19</td>\n",
       "      <td>4.47</td>\n",
       "      <td>4.60</td>\n",
       "      <td>5.71</td>\n",
       "    </tr>\n",
       "  </tbody>\n",
       "</table>\n",
       "<p>5 rows × 101 columns</p>\n",
       "</div>"
      ],
      "text/plain": [
       "                  time_index  2271221  2271222  2271223  2271224  2271225  \\\n",
       "0  2020-01-01 00:00:00+00:00     5.23     4.96     4.81     5.29     6.02   \n",
       "1  2020-01-01 00:05:00+00:00     5.04     4.75     4.59     5.04     5.79   \n",
       "2  2020-01-01 00:10:00+00:00     4.89     4.61     4.45     4.86     5.57   \n",
       "3  2020-01-01 00:15:00+00:00     4.79     4.55     4.36     4.71     5.36   \n",
       "4  2020-01-01 00:20:00+00:00     4.75     4.55     4.35     4.61     5.17   \n",
       "\n",
       "   2271226  2271227  2271228  2271229  ...  2286815  2286816  2286817  \\\n",
       "0     6.14     5.89     6.03     6.54  ...     5.95     5.85     6.06   \n",
       "1     6.01     5.74     5.81     6.21  ...     5.89     5.81     5.96   \n",
       "2     5.87     5.65     5.62     5.93  ...     5.82     5.73     5.86   \n",
       "3     5.69     5.56     5.45     5.71  ...     5.73     5.61     5.74   \n",
       "4     5.49     5.42     5.28     5.50  ...     5.60     5.48     5.59   \n",
       "\n",
       "   2286818  2286819  2286820  2286821  2286822  2286823  2288762  \n",
       "0     6.19     5.30     4.34     4.43     4.97     5.54     6.25  \n",
       "1     6.26     5.91     4.70     4.31     4.75     5.33     6.09  \n",
       "2     6.10     6.26     5.27     4.37     4.53     5.08     5.95  \n",
       "3     5.91     6.28     5.82     4.69     4.40     4.81     5.82  \n",
       "4     5.80     6.10     6.13     5.19     4.47     4.60     5.71  \n",
       "\n",
       "[5 rows x 101 columns]"
      ]
     },
     "execution_count": 13,
     "metadata": {},
     "output_type": "execute_result"
    }
   ],
   "source": [
    "df_wd = pd.read_csv(wind_resource_folder / \"wdir_data_ARM-SPG_2020.csv\")\n",
    "df_ws = pd.read_csv(wind_resource_folder / \"wspd_data_ARM-SPG_2020.csv\")\n",
    "df_ws.head()"
   ]
  },
  {
   "cell_type": "code",
   "execution_count": 14,
   "metadata": {},
   "outputs": [
    {
     "data": {
      "application/vnd.microsoft.datawrangler.viewer.v0+json": {
       "columns": [
        {
         "name": "index",
         "rawType": "int64",
         "type": "integer"
        },
        {
         "name": "ws_000",
         "rawType": "float64",
         "type": "float"
        },
        {
         "name": "wd_000",
         "rawType": "float64",
         "type": "float"
        },
        {
         "name": "ws_001",
         "rawType": "float64",
         "type": "float"
        },
        {
         "name": "wd_001",
         "rawType": "float64",
         "type": "float"
        },
        {
         "name": "ws_002",
         "rawType": "float64",
         "type": "float"
        },
        {
         "name": "wd_002",
         "rawType": "float64",
         "type": "float"
        },
        {
         "name": "ws_003",
         "rawType": "float64",
         "type": "float"
        },
        {
         "name": "wd_003",
         "rawType": "float64",
         "type": "float"
        },
        {
         "name": "ws_004",
         "rawType": "float64",
         "type": "float"
        },
        {
         "name": "wd_004",
         "rawType": "float64",
         "type": "float"
        },
        {
         "name": "ws_005",
         "rawType": "float64",
         "type": "float"
        },
        {
         "name": "wd_005",
         "rawType": "float64",
         "type": "float"
        },
        {
         "name": "ws_006",
         "rawType": "float64",
         "type": "float"
        },
        {
         "name": "wd_006",
         "rawType": "float64",
         "type": "float"
        },
        {
         "name": "ws_007",
         "rawType": "float64",
         "type": "float"
        },
        {
         "name": "wd_007",
         "rawType": "float64",
         "type": "float"
        },
        {
         "name": "ws_008",
         "rawType": "float64",
         "type": "float"
        },
        {
         "name": "wd_008",
         "rawType": "float64",
         "type": "float"
        }
       ],
       "conversionMethod": "pd.DataFrame",
       "ref": "6b6be61a-24a0-4369-a251-f10bba0d2669",
       "rows": [
        [
         "0",
         "6.031061031288872",
         "257.40499910441736",
         "6.15776922880518",
         "258.56248998928976",
         "5.606109294426763",
         "257.3924943847406",
         "6.101513583211517",
         "255.9399997048234",
         "4.261485055968029",
         "255.31749059854363",
         "4.306418515072719",
         "256.5448988678711",
         "5.896658395130887",
         "257.55250107267506",
         "5.936674952309755",
         "257.41247035103737",
         "6.159643327158591",
         "259.8900798329583"
        ],
        [
         "1",
         "5.90217703187203",
         "257.22749995265565",
         "5.928028212835148",
         "258.20249460340824",
         "5.428743598914114",
         "257.1549451076118",
         "6.057678036117",
         "256.3550020948825",
         "4.55633757227775",
         "254.40498365438137",
         "4.285916506054503",
         "253.38999190870297",
         "5.808878474198667",
         "257.5",
         "5.877972422778802",
         "256.8199351991792",
         "6.020549174911241",
         "259.62770975805165"
        ],
        [
         "2",
         "5.7919613696764065",
         "256.69250006693505",
         "5.735125347231479",
         "257.74999291730506",
         "5.269193120664677",
         "256.41240160222645",
         "6.008959678502764",
         "256.6525002945053",
         "4.9656288801042985",
         "254.44010803740267",
         "4.4446470084722165",
         "251.53494866239794",
         "5.715097004946794",
         "257.19249498729886",
         "5.805514734819232",
         "256.22242560117303",
         "5.896190208622903",
         "259.2302475529802"
        ],
        [
         "3",
         "5.663321943749438",
         "256.42499946539164",
         "5.57484906789012",
         "257.08499720067124",
         "5.118673163637394",
         "255.7574381656398",
         "5.930884408861065",
         "256.7724998961199",
         "5.367886128411518",
         "254.89506394475538",
         "4.750029718869627",
         "251.19264508625156",
         "5.601461804836714",
         "256.9874948168474",
         "5.711035995300595",
         "255.9874379124971",
         "5.778441509265403",
         "258.96269623155854"
        ],
        [
         "4",
         "5.498655284909586",
         "256.30749922125545",
         "5.4129550509908855",
         "256.06000237494595",
         "5.010407874346013",
         "255.03999840843244",
         "5.791146615065793",
         "256.75749976260977",
         "5.617784906201813",
         "255.30250571113206",
         "5.111906811368138",
         "251.81816349179857",
         "5.468949187485351",
         "256.73000062883705",
         "5.58077373364438",
         "256.01994878533037",
         "5.666115592172729",
         "258.78014863172956"
        ]
       ],
       "shape": {
        "columns": 18,
        "rows": 5
       }
      },
      "text/html": [
       "<div>\n",
       "<style scoped>\n",
       "    .dataframe tbody tr th:only-of-type {\n",
       "        vertical-align: middle;\n",
       "    }\n",
       "\n",
       "    .dataframe tbody tr th {\n",
       "        vertical-align: top;\n",
       "    }\n",
       "\n",
       "    .dataframe thead th {\n",
       "        text-align: right;\n",
       "    }\n",
       "</style>\n",
       "<table border=\"1\" class=\"dataframe\">\n",
       "  <thead>\n",
       "    <tr style=\"text-align: right;\">\n",
       "      <th></th>\n",
       "      <th>ws_000</th>\n",
       "      <th>wd_000</th>\n",
       "      <th>ws_001</th>\n",
       "      <th>wd_001</th>\n",
       "      <th>ws_002</th>\n",
       "      <th>wd_002</th>\n",
       "      <th>ws_003</th>\n",
       "      <th>wd_003</th>\n",
       "      <th>ws_004</th>\n",
       "      <th>wd_004</th>\n",
       "      <th>ws_005</th>\n",
       "      <th>wd_005</th>\n",
       "      <th>ws_006</th>\n",
       "      <th>wd_006</th>\n",
       "      <th>ws_007</th>\n",
       "      <th>wd_007</th>\n",
       "      <th>ws_008</th>\n",
       "      <th>wd_008</th>\n",
       "    </tr>\n",
       "  </thead>\n",
       "  <tbody>\n",
       "    <tr>\n",
       "      <th>0</th>\n",
       "      <td>6.031061</td>\n",
       "      <td>257.404999</td>\n",
       "      <td>6.157769</td>\n",
       "      <td>258.562490</td>\n",
       "      <td>5.606109</td>\n",
       "      <td>257.392494</td>\n",
       "      <td>6.101514</td>\n",
       "      <td>255.940000</td>\n",
       "      <td>4.261485</td>\n",
       "      <td>255.317491</td>\n",
       "      <td>4.306419</td>\n",
       "      <td>256.544899</td>\n",
       "      <td>5.896658</td>\n",
       "      <td>257.552501</td>\n",
       "      <td>5.936675</td>\n",
       "      <td>257.412470</td>\n",
       "      <td>6.159643</td>\n",
       "      <td>259.890080</td>\n",
       "    </tr>\n",
       "    <tr>\n",
       "      <th>1</th>\n",
       "      <td>5.902177</td>\n",
       "      <td>257.227500</td>\n",
       "      <td>5.928028</td>\n",
       "      <td>258.202495</td>\n",
       "      <td>5.428744</td>\n",
       "      <td>257.154945</td>\n",
       "      <td>6.057678</td>\n",
       "      <td>256.355002</td>\n",
       "      <td>4.556338</td>\n",
       "      <td>254.404984</td>\n",
       "      <td>4.285917</td>\n",
       "      <td>253.389992</td>\n",
       "      <td>5.808878</td>\n",
       "      <td>257.500000</td>\n",
       "      <td>5.877972</td>\n",
       "      <td>256.819935</td>\n",
       "      <td>6.020549</td>\n",
       "      <td>259.627710</td>\n",
       "    </tr>\n",
       "    <tr>\n",
       "      <th>2</th>\n",
       "      <td>5.791961</td>\n",
       "      <td>256.692500</td>\n",
       "      <td>5.735125</td>\n",
       "      <td>257.749993</td>\n",
       "      <td>5.269193</td>\n",
       "      <td>256.412402</td>\n",
       "      <td>6.008960</td>\n",
       "      <td>256.652500</td>\n",
       "      <td>4.965629</td>\n",
       "      <td>254.440108</td>\n",
       "      <td>4.444647</td>\n",
       "      <td>251.534949</td>\n",
       "      <td>5.715097</td>\n",
       "      <td>257.192495</td>\n",
       "      <td>5.805515</td>\n",
       "      <td>256.222426</td>\n",
       "      <td>5.896190</td>\n",
       "      <td>259.230248</td>\n",
       "    </tr>\n",
       "    <tr>\n",
       "      <th>3</th>\n",
       "      <td>5.663322</td>\n",
       "      <td>256.424999</td>\n",
       "      <td>5.574849</td>\n",
       "      <td>257.084997</td>\n",
       "      <td>5.118673</td>\n",
       "      <td>255.757438</td>\n",
       "      <td>5.930884</td>\n",
       "      <td>256.772500</td>\n",
       "      <td>5.367886</td>\n",
       "      <td>254.895064</td>\n",
       "      <td>4.750030</td>\n",
       "      <td>251.192645</td>\n",
       "      <td>5.601462</td>\n",
       "      <td>256.987495</td>\n",
       "      <td>5.711036</td>\n",
       "      <td>255.987438</td>\n",
       "      <td>5.778442</td>\n",
       "      <td>258.962696</td>\n",
       "    </tr>\n",
       "    <tr>\n",
       "      <th>4</th>\n",
       "      <td>5.498655</td>\n",
       "      <td>256.307499</td>\n",
       "      <td>5.412955</td>\n",
       "      <td>256.060002</td>\n",
       "      <td>5.010408</td>\n",
       "      <td>255.039998</td>\n",
       "      <td>5.791147</td>\n",
       "      <td>256.757500</td>\n",
       "      <td>5.617785</td>\n",
       "      <td>255.302506</td>\n",
       "      <td>5.111907</td>\n",
       "      <td>251.818163</td>\n",
       "      <td>5.468949</td>\n",
       "      <td>256.730001</td>\n",
       "      <td>5.580774</td>\n",
       "      <td>256.019949</td>\n",
       "      <td>5.666116</td>\n",
       "      <td>258.780149</td>\n",
       "    </tr>\n",
       "  </tbody>\n",
       "</table>\n",
       "</div>"
      ],
      "text/plain": [
       "     ws_000      wd_000    ws_001      wd_001    ws_002      wd_002    ws_003  \\\n",
       "0  6.031061  257.404999  6.157769  258.562490  5.606109  257.392494  6.101514   \n",
       "1  5.902177  257.227500  5.928028  258.202495  5.428744  257.154945  6.057678   \n",
       "2  5.791961  256.692500  5.735125  257.749993  5.269193  256.412402  6.008960   \n",
       "3  5.663322  256.424999  5.574849  257.084997  5.118673  255.757438  5.930884   \n",
       "4  5.498655  256.307499  5.412955  256.060002  5.010408  255.039998  5.791147   \n",
       "\n",
       "       wd_003    ws_004      wd_004    ws_005      wd_005    ws_006  \\\n",
       "0  255.940000  4.261485  255.317491  4.306419  256.544899  5.896658   \n",
       "1  256.355002  4.556338  254.404984  4.285917  253.389992  5.808878   \n",
       "2  256.652500  4.965629  254.440108  4.444647  251.534949  5.715097   \n",
       "3  256.772500  5.367886  254.895064  4.750030  251.192645  5.601462   \n",
       "4  256.757500  5.617785  255.302506  5.111907  251.818163  5.468949   \n",
       "\n",
       "       wd_006    ws_007      wd_007    ws_008      wd_008  \n",
       "0  257.552501  5.936675  257.412470  6.159643  259.890080  \n",
       "1  257.500000  5.877972  256.819935  6.020549  259.627710  \n",
       "2  257.192495  5.805515  256.222426  5.896190  259.230248  \n",
       "3  256.987495  5.711036  255.987438  5.778442  258.962696  \n",
       "4  256.730001  5.580774  256.019949  5.666116  258.780149  "
      ]
     },
     "execution_count": 14,
     "metadata": {},
     "output_type": "execute_result"
    }
   ],
   "source": [
    "# Build up the wind speed at each turbine location by interpolating the 4 nearest points\n",
    "df_turbine_input = pd.DataFrame()\n",
    "for i in range(n_turbines):\n",
    "    indices = res_dict[i][\"indices\"].values.tolist()\n",
    "    indices = [str(i) for i in indices]  # Convert to strings\n",
    "    weights = res_dict[i][\"weights\"].values\n",
    "\n",
    "    df_sub_ws = df_ws[indices]\n",
    "    ws_t_temp = (df_sub_ws * weights).sum(axis=1)\n",
    "    df_turbine_input[f\"ws_{i:03d}\"] = ws_t_temp\n",
    "\n",
    "    # Same for wind direction but use circular mean\n",
    "    df_sub_wd = df_wd[indices]\n",
    "    wd_t_temp = df_sub_wd.apply(lambda x: circmean(x, high=360, low=0, nan_policy=\"omit\"), axis=1)\n",
    "    df_turbine_input[f\"wd_{i:03d}\"] = wd_t_temp\n",
    "\n",
    "df_turbine_input.head()"
   ]
  },
  {
   "cell_type": "code",
   "execution_count": 16,
   "metadata": {},
   "outputs": [
    {
     "data": {
      "application/vnd.microsoft.datawrangler.viewer.v0+json": {
       "columns": [
        {
         "name": "index",
         "rawType": "int64",
         "type": "integer"
        },
        {
         "name": "Timestamp",
         "rawType": "datetime64[ns, UTC]",
         "type": "unknown"
        },
        {
         "name": "ws_000",
         "rawType": "float64",
         "type": "float"
        },
        {
         "name": "wd_000",
         "rawType": "float64",
         "type": "float"
        },
        {
         "name": "ws_001",
         "rawType": "float64",
         "type": "float"
        },
        {
         "name": "wd_001",
         "rawType": "float64",
         "type": "float"
        },
        {
         "name": "ws_002",
         "rawType": "float64",
         "type": "float"
        },
        {
         "name": "wd_002",
         "rawType": "float64",
         "type": "float"
        },
        {
         "name": "ws_003",
         "rawType": "float64",
         "type": "float"
        },
        {
         "name": "wd_003",
         "rawType": "float64",
         "type": "float"
        },
        {
         "name": "ws_004",
         "rawType": "float64",
         "type": "float"
        },
        {
         "name": "wd_004",
         "rawType": "float64",
         "type": "float"
        },
        {
         "name": "ws_005",
         "rawType": "float64",
         "type": "float"
        },
        {
         "name": "wd_005",
         "rawType": "float64",
         "type": "float"
        },
        {
         "name": "ws_006",
         "rawType": "float64",
         "type": "float"
        },
        {
         "name": "wd_006",
         "rawType": "float64",
         "type": "float"
        },
        {
         "name": "ws_007",
         "rawType": "float64",
         "type": "float"
        },
        {
         "name": "wd_007",
         "rawType": "float64",
         "type": "float"
        },
        {
         "name": "ws_008",
         "rawType": "float64",
         "type": "float"
        },
        {
         "name": "wd_008",
         "rawType": "float64",
         "type": "float"
        },
        {
         "name": "ti_000",
         "rawType": "float64",
         "type": "float"
        },
        {
         "name": "ti_001",
         "rawType": "float64",
         "type": "float"
        },
        {
         "name": "ti_002",
         "rawType": "float64",
         "type": "float"
        },
        {
         "name": "ti_003",
         "rawType": "float64",
         "type": "float"
        },
        {
         "name": "ti_004",
         "rawType": "float64",
         "type": "float"
        },
        {
         "name": "ti_005",
         "rawType": "float64",
         "type": "float"
        },
        {
         "name": "ti_006",
         "rawType": "float64",
         "type": "float"
        },
        {
         "name": "ti_007",
         "rawType": "float64",
         "type": "float"
        },
        {
         "name": "ti_008",
         "rawType": "float64",
         "type": "float"
        }
       ],
       "conversionMethod": "pd.DataFrame",
       "ref": "ef6604ff-7d17-4af8-ba53-3c280b10b4b2",
       "rows": [
        [
         "0",
         "2020-01-01 00:00:00+00:00",
         "6.031061031288872",
         "257.40499910441736",
         "6.15776922880518",
         "258.56248998928976",
         "5.606109294426763",
         "257.3924943847406",
         "6.101513583211517",
         "255.9399997048234",
         "4.261485055968029",
         "255.31749059854363",
         "4.306418515072719",
         "256.5448988678711",
         "5.896658395130887",
         "257.55250107267506",
         "5.936674952309755",
         "257.41247035103737",
         "6.159643327158591",
         "259.8900798329583",
         "0.06",
         "0.06",
         "0.06",
         "0.06",
         "0.06",
         "0.06",
         "0.06",
         "0.06",
         "0.06"
        ],
        [
         "1",
         "2020-01-01 00:05:00+00:00",
         "5.90217703187203",
         "257.22749995265565",
         "5.928028212835148",
         "258.20249460340824",
         "5.428743598914114",
         "257.1549451076118",
         "6.057678036117",
         "256.3550020948825",
         "4.55633757227775",
         "254.40498365438137",
         "4.285916506054503",
         "253.38999190870297",
         "5.808878474198667",
         "257.5",
         "5.877972422778802",
         "256.8199351991792",
         "6.020549174911241",
         "259.62770975805165",
         "0.06",
         "0.06",
         "0.06",
         "0.06",
         "0.06",
         "0.06",
         "0.06",
         "0.06",
         "0.06"
        ],
        [
         "2",
         "2020-01-01 00:10:00+00:00",
         "5.7919613696764065",
         "256.69250006693505",
         "5.735125347231479",
         "257.74999291730506",
         "5.269193120664677",
         "256.41240160222645",
         "6.008959678502764",
         "256.6525002945053",
         "4.9656288801042985",
         "254.44010803740267",
         "4.4446470084722165",
         "251.53494866239794",
         "5.715097004946794",
         "257.19249498729886",
         "5.805514734819232",
         "256.22242560117303",
         "5.896190208622903",
         "259.2302475529802",
         "0.06",
         "0.06",
         "0.06",
         "0.06",
         "0.06",
         "0.06",
         "0.06",
         "0.06",
         "0.06"
        ],
        [
         "3",
         "2020-01-01 00:15:00+00:00",
         "5.663321943749438",
         "256.42499946539164",
         "5.57484906789012",
         "257.08499720067124",
         "5.118673163637394",
         "255.7574381656398",
         "5.930884408861065",
         "256.7724998961199",
         "5.367886128411518",
         "254.89506394475538",
         "4.750029718869627",
         "251.19264508625156",
         "5.601461804836714",
         "256.9874948168474",
         "5.711035995300595",
         "255.9874379124971",
         "5.778441509265403",
         "258.96269623155854",
         "0.06",
         "0.06",
         "0.06",
         "0.06",
         "0.06",
         "0.06",
         "0.06",
         "0.06",
         "0.06"
        ],
        [
         "4",
         "2020-01-01 00:20:00+00:00",
         "5.498655284909586",
         "256.30749922125545",
         "5.4129550509908855",
         "256.06000237494595",
         "5.010407874346013",
         "255.03999840843244",
         "5.791146615065793",
         "256.75749976260977",
         "5.617784906201813",
         "255.30250571113206",
         "5.111906811368138",
         "251.81816349179857",
         "5.468949187485351",
         "256.73000062883705",
         "5.58077373364438",
         "256.01994878533037",
         "5.666115592172729",
         "258.78014863172956",
         "0.06",
         "0.06",
         "0.06",
         "0.06",
         "0.06",
         "0.06",
         "0.06",
         "0.06",
         "0.06"
        ]
       ],
       "shape": {
        "columns": 28,
        "rows": 5
       }
      },
      "text/html": [
       "<div>\n",
       "<style scoped>\n",
       "    .dataframe tbody tr th:only-of-type {\n",
       "        vertical-align: middle;\n",
       "    }\n",
       "\n",
       "    .dataframe tbody tr th {\n",
       "        vertical-align: top;\n",
       "    }\n",
       "\n",
       "    .dataframe thead th {\n",
       "        text-align: right;\n",
       "    }\n",
       "</style>\n",
       "<table border=\"1\" class=\"dataframe\">\n",
       "  <thead>\n",
       "    <tr style=\"text-align: right;\">\n",
       "      <th></th>\n",
       "      <th>Timestamp</th>\n",
       "      <th>ws_000</th>\n",
       "      <th>wd_000</th>\n",
       "      <th>ws_001</th>\n",
       "      <th>wd_001</th>\n",
       "      <th>ws_002</th>\n",
       "      <th>wd_002</th>\n",
       "      <th>ws_003</th>\n",
       "      <th>wd_003</th>\n",
       "      <th>ws_004</th>\n",
       "      <th>...</th>\n",
       "      <th>wd_008</th>\n",
       "      <th>ti_000</th>\n",
       "      <th>ti_001</th>\n",
       "      <th>ti_002</th>\n",
       "      <th>ti_003</th>\n",
       "      <th>ti_004</th>\n",
       "      <th>ti_005</th>\n",
       "      <th>ti_006</th>\n",
       "      <th>ti_007</th>\n",
       "      <th>ti_008</th>\n",
       "    </tr>\n",
       "  </thead>\n",
       "  <tbody>\n",
       "    <tr>\n",
       "      <th>0</th>\n",
       "      <td>2020-01-01 00:00:00+00:00</td>\n",
       "      <td>6.031061</td>\n",
       "      <td>257.404999</td>\n",
       "      <td>6.157769</td>\n",
       "      <td>258.562490</td>\n",
       "      <td>5.606109</td>\n",
       "      <td>257.392494</td>\n",
       "      <td>6.101514</td>\n",
       "      <td>255.940000</td>\n",
       "      <td>4.261485</td>\n",
       "      <td>...</td>\n",
       "      <td>259.890080</td>\n",
       "      <td>0.06</td>\n",
       "      <td>0.06</td>\n",
       "      <td>0.06</td>\n",
       "      <td>0.06</td>\n",
       "      <td>0.06</td>\n",
       "      <td>0.06</td>\n",
       "      <td>0.06</td>\n",
       "      <td>0.06</td>\n",
       "      <td>0.06</td>\n",
       "    </tr>\n",
       "    <tr>\n",
       "      <th>1</th>\n",
       "      <td>2020-01-01 00:05:00+00:00</td>\n",
       "      <td>5.902177</td>\n",
       "      <td>257.227500</td>\n",
       "      <td>5.928028</td>\n",
       "      <td>258.202495</td>\n",
       "      <td>5.428744</td>\n",
       "      <td>257.154945</td>\n",
       "      <td>6.057678</td>\n",
       "      <td>256.355002</td>\n",
       "      <td>4.556338</td>\n",
       "      <td>...</td>\n",
       "      <td>259.627710</td>\n",
       "      <td>0.06</td>\n",
       "      <td>0.06</td>\n",
       "      <td>0.06</td>\n",
       "      <td>0.06</td>\n",
       "      <td>0.06</td>\n",
       "      <td>0.06</td>\n",
       "      <td>0.06</td>\n",
       "      <td>0.06</td>\n",
       "      <td>0.06</td>\n",
       "    </tr>\n",
       "    <tr>\n",
       "      <th>2</th>\n",
       "      <td>2020-01-01 00:10:00+00:00</td>\n",
       "      <td>5.791961</td>\n",
       "      <td>256.692500</td>\n",
       "      <td>5.735125</td>\n",
       "      <td>257.749993</td>\n",
       "      <td>5.269193</td>\n",
       "      <td>256.412402</td>\n",
       "      <td>6.008960</td>\n",
       "      <td>256.652500</td>\n",
       "      <td>4.965629</td>\n",
       "      <td>...</td>\n",
       "      <td>259.230248</td>\n",
       "      <td>0.06</td>\n",
       "      <td>0.06</td>\n",
       "      <td>0.06</td>\n",
       "      <td>0.06</td>\n",
       "      <td>0.06</td>\n",
       "      <td>0.06</td>\n",
       "      <td>0.06</td>\n",
       "      <td>0.06</td>\n",
       "      <td>0.06</td>\n",
       "    </tr>\n",
       "    <tr>\n",
       "      <th>3</th>\n",
       "      <td>2020-01-01 00:15:00+00:00</td>\n",
       "      <td>5.663322</td>\n",
       "      <td>256.424999</td>\n",
       "      <td>5.574849</td>\n",
       "      <td>257.084997</td>\n",
       "      <td>5.118673</td>\n",
       "      <td>255.757438</td>\n",
       "      <td>5.930884</td>\n",
       "      <td>256.772500</td>\n",
       "      <td>5.367886</td>\n",
       "      <td>...</td>\n",
       "      <td>258.962696</td>\n",
       "      <td>0.06</td>\n",
       "      <td>0.06</td>\n",
       "      <td>0.06</td>\n",
       "      <td>0.06</td>\n",
       "      <td>0.06</td>\n",
       "      <td>0.06</td>\n",
       "      <td>0.06</td>\n",
       "      <td>0.06</td>\n",
       "      <td>0.06</td>\n",
       "    </tr>\n",
       "    <tr>\n",
       "      <th>4</th>\n",
       "      <td>2020-01-01 00:20:00+00:00</td>\n",
       "      <td>5.498655</td>\n",
       "      <td>256.307499</td>\n",
       "      <td>5.412955</td>\n",
       "      <td>256.060002</td>\n",
       "      <td>5.010408</td>\n",
       "      <td>255.039998</td>\n",
       "      <td>5.791147</td>\n",
       "      <td>256.757500</td>\n",
       "      <td>5.617785</td>\n",
       "      <td>...</td>\n",
       "      <td>258.780149</td>\n",
       "      <td>0.06</td>\n",
       "      <td>0.06</td>\n",
       "      <td>0.06</td>\n",
       "      <td>0.06</td>\n",
       "      <td>0.06</td>\n",
       "      <td>0.06</td>\n",
       "      <td>0.06</td>\n",
       "      <td>0.06</td>\n",
       "      <td>0.06</td>\n",
       "    </tr>\n",
       "  </tbody>\n",
       "</table>\n",
       "<p>5 rows × 28 columns</p>\n",
       "</div>"
      ],
      "text/plain": [
       "                  Timestamp    ws_000      wd_000    ws_001      wd_001  \\\n",
       "0 2020-01-01 00:00:00+00:00  6.031061  257.404999  6.157769  258.562490   \n",
       "1 2020-01-01 00:05:00+00:00  5.902177  257.227500  5.928028  258.202495   \n",
       "2 2020-01-01 00:10:00+00:00  5.791961  256.692500  5.735125  257.749993   \n",
       "3 2020-01-01 00:15:00+00:00  5.663322  256.424999  5.574849  257.084997   \n",
       "4 2020-01-01 00:20:00+00:00  5.498655  256.307499  5.412955  256.060002   \n",
       "\n",
       "     ws_002      wd_002    ws_003      wd_003    ws_004  ...      wd_008  \\\n",
       "0  5.606109  257.392494  6.101514  255.940000  4.261485  ...  259.890080   \n",
       "1  5.428744  257.154945  6.057678  256.355002  4.556338  ...  259.627710   \n",
       "2  5.269193  256.412402  6.008960  256.652500  4.965629  ...  259.230248   \n",
       "3  5.118673  255.757438  5.930884  256.772500  5.367886  ...  258.962696   \n",
       "4  5.010408  255.039998  5.791147  256.757500  5.617785  ...  258.780149   \n",
       "\n",
       "   ti_000  ti_001  ti_002  ti_003  ti_004  ti_005  ti_006  ti_007  ti_008  \n",
       "0    0.06    0.06    0.06    0.06    0.06    0.06    0.06    0.06    0.06  \n",
       "1    0.06    0.06    0.06    0.06    0.06    0.06    0.06    0.06    0.06  \n",
       "2    0.06    0.06    0.06    0.06    0.06    0.06    0.06    0.06    0.06  \n",
       "3    0.06    0.06    0.06    0.06    0.06    0.06    0.06    0.06    0.06  \n",
       "4    0.06    0.06    0.06    0.06    0.06    0.06    0.06    0.06    0.06  \n",
       "\n",
       "[5 rows x 28 columns]"
      ]
     },
     "execution_count": 16,
     "metadata": {},
     "output_type": "execute_result"
    }
   ],
   "source": [
    "#  Complete the dataframe by adding place holder TI information for now\n",
    "for i in range(n_turbines):\n",
    "    df_turbine_input[f\"ti_{i:03d}\"] = 0.06\n",
    "\n",
    "# Add the Timestamp column as the first column\n",
    "df_turbine_input.insert(0, \"Timestamp\", df_ws[\"time_index\"])\n",
    "\n",
    "# Set the Timestamp as pd.Datetime\n",
    "df_turbine_input[\"Timestamp\"] = pd.to_datetime(df_turbine_input[\"Timestamp\"])\n",
    "\n",
    "# Reset indices\n",
    "df_turbine_input = df_turbine_input.reset_index(drop=True)\n",
    "\n",
    "# Show the results\n",
    "df_turbine_input.head()"
   ]
  },
  {
   "cell_type": "code",
   "execution_count": 17,
   "metadata": {},
   "outputs": [
    {
     "name": "stdout",
     "output_type": "stream",
     "text": [
      "Reduced the number of rows from 105408 to 8928\n"
     ]
    }
   ],
   "source": [
    "# Limit to the reqested number of months\n",
    "start_time = df_turbine_input[\"Timestamp\"].min()\n",
    "end_time = start_time + pd.DateOffset(months=months)\n",
    "initial_num_rows = df_turbine_input.shape[0]\n",
    "df_turbine_input = df_turbine_input[\n",
    "    (df_turbine_input[\"Timestamp\"] >= start_time) & (df_turbine_input[\"Timestamp\"] < end_time)\n",
    "]\n",
    "print(f\"Reduced the number of rows from {initial_num_rows} to {df_turbine_input.shape[0]}\")"
   ]
  },
  {
   "cell_type": "markdown",
   "metadata": {},
   "source": [
    "# Compare the wind speeds and directions of turbines 0/9 at other ends of farm"
   ]
  },
  {
   "cell_type": "code",
   "execution_count": 18,
   "metadata": {},
   "outputs": [
    {
     "data": {
      "image/png": "[encoded data removed]",
      "text/plain": [
       "<Figure size 1000x600 with 2 Axes>"
      ]
     },
     "metadata": {},
     "output_type": "display_data"
    }
   ],
   "source": [
    "fig, axarr = plt.subplots(2, 1, sharex=True, figsize=(10, 6))\n",
    "for i in [0, 8]:\n",
    "    ax = axarr[0]\n",
    "    ax.plot(df_turbine_input[\"Timestamp\"], df_turbine_input[f\"ws_{i:03d}\"], label=f\"Turbine {i}\")\n",
    "    ax.set_ylabel(\"Wind Speed [m/s]\")\n",
    "    ax.legend()\n",
    "\n",
    "    ax = axarr[1]\n",
    "    ax.plot(df_turbine_input[\"Timestamp\"], df_turbine_input[f\"wd_{i:03d}\"], label=f\"Turbine {i}\")\n",
    "    ax.set_ylabel(\"Wind Direction [deg]\")\n",
    "    ax.set_xlabel(\"Time\")"
   ]
  },
  {
   "cell_type": "code",
   "execution_count": 19,
   "metadata": {},
   "outputs": [
    {
     "data": {
      "image/png": "[encoded data removed]",
      "text/plain": [
       "<Figure size 1000x600 with 2 Axes>"
      ]
     },
     "metadata": {},
     "output_type": "display_data"
    }
   ],
   "source": [
    "# Repeat above showing only the first day\n",
    "fig, axarr = plt.subplots(2, 1, sharex=True, figsize=(10, 6))\n",
    "\n",
    "length_of_day = 24 * 12\n",
    "\n",
    "for i in [0, 8]:\n",
    "    ax = axarr[0]\n",
    "    ax.plot(\n",
    "        df_turbine_input[\"Timestamp\"].iloc[: length_of_day],\n",
    "        df_turbine_input[f\"ws_{i:03d}\"].iloc[: length_of_day],\n",
    "        label=f\"Turbine {i}\",\n",
    "    )\n",
    "    ax.set_ylabel(\"Wind Speed [m/s]\")\n",
    "    ax.legend()\n",
    "\n",
    "    ax = axarr[1]\n",
    "    ax.plot(\n",
    "        df_turbine_input[\"Timestamp\"].iloc[: length_of_day],\n",
    "        df_turbine_input[f\"wd_{i:03d}\"].iloc[: length_of_day],\n",
    "        label=f\"Turbine {i}\",\n",
    "    )\n",
    "    ax.set_ylabel(\"Wind Direction [deg]\")\n",
    "    ax.set_xlabel(\"Time\")"
   ]
  },
  {
   "cell_type": "markdown",
   "metadata": {},
   "source": [
    "# Fake upsampling\n",
    "\n",
    "Upsample through basically random noise, this should be improved upon"
   ]
  },
  {
   "cell_type": "code",
   "execution_count": 20,
   "metadata": {},
   "outputs": [],
   "source": [
    "# Set the timestamp as the index\n",
    "df_turbine_input = df_turbine_input.set_index(\"Timestamp\")"
   ]
  },
  {
   "cell_type": "code",
   "execution_count": 21,
   "metadata": {},
   "outputs": [
    {
     "data": {
      "application/vnd.microsoft.datawrangler.viewer.v0+json": {
       "columns": [
        {
         "name": "Timestamp",
         "rawType": "datetime64[ns, UTC]",
         "type": "unknown"
        },
        {
         "name": "ws_000",
         "rawType": "float64",
         "type": "float"
        },
        {
         "name": "wd_000",
         "rawType": "float64",
         "type": "float"
        },
        {
         "name": "ws_001",
         "rawType": "float64",
         "type": "float"
        },
        {
         "name": "wd_001",
         "rawType": "float64",
         "type": "float"
        },
        {
         "name": "ws_002",
         "rawType": "float64",
         "type": "float"
        },
        {
         "name": "wd_002",
         "rawType": "float64",
         "type": "float"
        },
        {
         "name": "ws_003",
         "rawType": "float64",
         "type": "float"
        },
        {
         "name": "wd_003",
         "rawType": "float64",
         "type": "float"
        },
        {
         "name": "ws_004",
         "rawType": "float64",
         "type": "float"
        },
        {
         "name": "wd_004",
         "rawType": "float64",
         "type": "float"
        },
        {
         "name": "ws_005",
         "rawType": "float64",
         "type": "float"
        },
        {
         "name": "wd_005",
         "rawType": "float64",
         "type": "float"
        },
        {
         "name": "ws_006",
         "rawType": "float64",
         "type": "float"
        },
        {
         "name": "wd_006",
         "rawType": "float64",
         "type": "float"
        },
        {
         "name": "ws_007",
         "rawType": "float64",
         "type": "float"
        },
        {
         "name": "wd_007",
         "rawType": "float64",
         "type": "float"
        },
        {
         "name": "ws_008",
         "rawType": "float64",
         "type": "float"
        },
        {
         "name": "wd_008",
         "rawType": "float64",
         "type": "float"
        },
        {
         "name": "ti_000",
         "rawType": "float64",
         "type": "float"
        },
        {
         "name": "ti_001",
         "rawType": "float64",
         "type": "float"
        },
        {
         "name": "ti_002",
         "rawType": "float64",
         "type": "float"
        },
        {
         "name": "ti_003",
         "rawType": "float64",
         "type": "float"
        },
        {
         "name": "ti_004",
         "rawType": "float64",
         "type": "float"
        },
        {
         "name": "ti_005",
         "rawType": "float64",
         "type": "float"
        },
        {
         "name": "ti_006",
         "rawType": "float64",
         "type": "float"
        },
        {
         "name": "ti_007",
         "rawType": "float64",
         "type": "float"
        },
        {
         "name": "ti_008",
         "rawType": "float64",
         "type": "float"
        }
       ],
       "conversionMethod": "pd.DataFrame",
       "ref": "d21eac27-b92a-4761-afa3-58b38b75fcf8",
       "rows": [
        [
         "2020-01-01 00:00:00+00:00",
         "6.031061031288872",
         "257.40499910441736",
         "6.15776922880518",
         "258.56248998928976",
         "5.606109294426763",
         "257.3924943847406",
         "6.101513583211517",
         "255.9399997048234",
         "4.261485055968029",
         "255.31749059854363",
         "4.306418515072719",
         "256.5448988678711",
         "5.896658395130887",
         "257.55250107267506",
         "5.936674952309755",
         "257.41247035103737",
         "6.159643327158591",
         "259.8900798329583",
         "0.06",
         "0.06",
         "0.06",
         "0.06",
         "0.06",
         "0.06",
         "0.06",
         "0.06",
         "0.06"
        ],
        [
         "2020-01-01 00:00:01+00:00",
         "6.031061031288872",
         "257.40499910441736",
         "6.15776922880518",
         "258.56248998928976",
         "5.606109294426763",
         "257.3924943847406",
         "6.101513583211517",
         "255.9399997048234",
         "4.261485055968029",
         "255.31749059854363",
         "4.306418515072719",
         "256.5448988678711",
         "5.896658395130887",
         "257.55250107267506",
         "5.936674952309755",
         "257.41247035103737",
         "6.159643327158591",
         "259.8900798329583",
         "0.06",
         "0.06",
         "0.06",
         "0.06",
         "0.06",
         "0.06",
         "0.06",
         "0.06",
         "0.06"
        ],
        [
         "2020-01-01 00:00:02+00:00",
         "6.031061031288872",
         "257.40499910441736",
         "6.15776922880518",
         "258.56248998928976",
         "5.606109294426763",
         "257.3924943847406",
         "6.101513583211517",
         "255.9399997048234",
         "4.261485055968029",
         "255.31749059854363",
         "4.306418515072719",
         "256.5448988678711",
         "5.896658395130887",
         "257.55250107267506",
         "5.936674952309755",
         "257.41247035103737",
         "6.159643327158591",
         "259.8900798329583",
         "0.06",
         "0.06",
         "0.06",
         "0.06",
         "0.06",
         "0.06",
         "0.06",
         "0.06",
         "0.06"
        ],
        [
         "2020-01-01 00:00:03+00:00",
         "6.031061031288872",
         "257.40499910441736",
         "6.15776922880518",
         "258.56248998928976",
         "5.606109294426763",
         "257.3924943847406",
         "6.101513583211517",
         "255.9399997048234",
         "4.261485055968029",
         "255.31749059854363",
         "4.306418515072719",
         "256.5448988678711",
         "5.896658395130887",
         "257.55250107267506",
         "5.936674952309755",
         "257.41247035103737",
         "6.159643327158591",
         "259.8900798329583",
         "0.06",
         "0.06",
         "0.06",
         "0.06",
         "0.06",
         "0.06",
         "0.06",
         "0.06",
         "0.06"
        ],
        [
         "2020-01-01 00:00:04+00:00",
         "6.031061031288872",
         "257.40499910441736",
         "6.15776922880518",
         "258.56248998928976",
         "5.606109294426763",
         "257.3924943847406",
         "6.101513583211517",
         "255.9399997048234",
         "4.261485055968029",
         "255.31749059854363",
         "4.306418515072719",
         "256.5448988678711",
         "5.896658395130887",
         "257.55250107267506",
         "5.936674952309755",
         "257.41247035103737",
         "6.159643327158591",
         "259.8900798329583",
         "0.06",
         "0.06",
         "0.06",
         "0.06",
         "0.06",
         "0.06",
         "0.06",
         "0.06",
         "0.06"
        ]
       ],
       "shape": {
        "columns": 27,
        "rows": 5
       }
      },
      "text/html": [
       "<div>\n",
       "<style scoped>\n",
       "    .dataframe tbody tr th:only-of-type {\n",
       "        vertical-align: middle;\n",
       "    }\n",
       "\n",
       "    .dataframe tbody tr th {\n",
       "        vertical-align: top;\n",
       "    }\n",
       "\n",
       "    .dataframe thead th {\n",
       "        text-align: right;\n",
       "    }\n",
       "</style>\n",
       "<table border=\"1\" class=\"dataframe\">\n",
       "  <thead>\n",
       "    <tr style=\"text-align: right;\">\n",
       "      <th></th>\n",
       "      <th>ws_000</th>\n",
       "      <th>wd_000</th>\n",
       "      <th>ws_001</th>\n",
       "      <th>wd_001</th>\n",
       "      <th>ws_002</th>\n",
       "      <th>wd_002</th>\n",
       "      <th>ws_003</th>\n",
       "      <th>wd_003</th>\n",
       "      <th>ws_004</th>\n",
       "      <th>wd_004</th>\n",
       "      <th>...</th>\n",
       "      <th>wd_008</th>\n",
       "      <th>ti_000</th>\n",
       "      <th>ti_001</th>\n",
       "      <th>ti_002</th>\n",
       "      <th>ti_003</th>\n",
       "      <th>ti_004</th>\n",
       "      <th>ti_005</th>\n",
       "      <th>ti_006</th>\n",
       "      <th>ti_007</th>\n",
       "      <th>ti_008</th>\n",
       "    </tr>\n",
       "    <tr>\n",
       "      <th>Timestamp</th>\n",
       "      <th></th>\n",
       "      <th></th>\n",
       "      <th></th>\n",
       "      <th></th>\n",
       "      <th></th>\n",
       "      <th></th>\n",
       "      <th></th>\n",
       "      <th></th>\n",
       "      <th></th>\n",
       "      <th></th>\n",
       "      <th></th>\n",
       "      <th></th>\n",
       "      <th></th>\n",
       "      <th></th>\n",
       "      <th></th>\n",
       "      <th></th>\n",
       "      <th></th>\n",
       "      <th></th>\n",
       "      <th></th>\n",
       "      <th></th>\n",
       "      <th></th>\n",
       "    </tr>\n",
       "  </thead>\n",
       "  <tbody>\n",
       "    <tr>\n",
       "      <th>2020-01-01 00:00:00+00:00</th>\n",
       "      <td>6.031061</td>\n",
       "      <td>257.404999</td>\n",
       "      <td>6.157769</td>\n",
       "      <td>258.56249</td>\n",
       "      <td>5.606109</td>\n",
       "      <td>257.392494</td>\n",
       "      <td>6.101514</td>\n",
       "      <td>255.94</td>\n",
       "      <td>4.261485</td>\n",
       "      <td>255.317491</td>\n",
       "      <td>...</td>\n",
       "      <td>259.89008</td>\n",
       "      <td>0.06</td>\n",
       "      <td>0.06</td>\n",
       "      <td>0.06</td>\n",
       "      <td>0.06</td>\n",
       "      <td>0.06</td>\n",
       "      <td>0.06</td>\n",
       "      <td>0.06</td>\n",
       "      <td>0.06</td>\n",
       "      <td>0.06</td>\n",
       "    </tr>\n",
       "    <tr>\n",
       "      <th>2020-01-01 00:00:01+00:00</th>\n",
       "      <td>6.031061</td>\n",
       "      <td>257.404999</td>\n",
       "      <td>6.157769</td>\n",
       "      <td>258.56249</td>\n",
       "      <td>5.606109</td>\n",
       "      <td>257.392494</td>\n",
       "      <td>6.101514</td>\n",
       "      <td>255.94</td>\n",
       "      <td>4.261485</td>\n",
       "      <td>255.317491</td>\n",
       "      <td>...</td>\n",
       "      <td>259.89008</td>\n",
       "      <td>0.06</td>\n",
       "      <td>0.06</td>\n",
       "      <td>0.06</td>\n",
       "      <td>0.06</td>\n",
       "      <td>0.06</td>\n",
       "      <td>0.06</td>\n",
       "      <td>0.06</td>\n",
       "      <td>0.06</td>\n",
       "      <td>0.06</td>\n",
       "    </tr>\n",
       "    <tr>\n",
       "      <th>2020-01-01 00:00:02+00:00</th>\n",
       "      <td>6.031061</td>\n",
       "      <td>257.404999</td>\n",
       "      <td>6.157769</td>\n",
       "      <td>258.56249</td>\n",
       "      <td>5.606109</td>\n",
       "      <td>257.392494</td>\n",
       "      <td>6.101514</td>\n",
       "      <td>255.94</td>\n",
       "      <td>4.261485</td>\n",
       "      <td>255.317491</td>\n",
       "      <td>...</td>\n",
       "      <td>259.89008</td>\n",
       "      <td>0.06</td>\n",
       "      <td>0.06</td>\n",
       "      <td>0.06</td>\n",
       "      <td>0.06</td>\n",
       "      <td>0.06</td>\n",
       "      <td>0.06</td>\n",
       "      <td>0.06</td>\n",
       "      <td>0.06</td>\n",
       "      <td>0.06</td>\n",
       "    </tr>\n",
       "    <tr>\n",
       "      <th>2020-01-01 00:00:03+00:00</th>\n",
       "      <td>6.031061</td>\n",
       "      <td>257.404999</td>\n",
       "      <td>6.157769</td>\n",
       "      <td>258.56249</td>\n",
       "      <td>5.606109</td>\n",
       "      <td>257.392494</td>\n",
       "      <td>6.101514</td>\n",
       "      <td>255.94</td>\n",
       "      <td>4.261485</td>\n",
       "      <td>255.317491</td>\n",
       "      <td>...</td>\n",
       "      <td>259.89008</td>\n",
       "      <td>0.06</td>\n",
       "      <td>0.06</td>\n",
       "      <td>0.06</td>\n",
       "      <td>0.06</td>\n",
       "      <td>0.06</td>\n",
       "      <td>0.06</td>\n",
       "      <td>0.06</td>\n",
       "      <td>0.06</td>\n",
       "      <td>0.06</td>\n",
       "    </tr>\n",
       "    <tr>\n",
       "      <th>2020-01-01 00:00:04+00:00</th>\n",
       "      <td>6.031061</td>\n",
       "      <td>257.404999</td>\n",
       "      <td>6.157769</td>\n",
       "      <td>258.56249</td>\n",
       "      <td>5.606109</td>\n",
       "      <td>257.392494</td>\n",
       "      <td>6.101514</td>\n",
       "      <td>255.94</td>\n",
       "      <td>4.261485</td>\n",
       "      <td>255.317491</td>\n",
       "      <td>...</td>\n",
       "      <td>259.89008</td>\n",
       "      <td>0.06</td>\n",
       "      <td>0.06</td>\n",
       "      <td>0.06</td>\n",
       "      <td>0.06</td>\n",
       "      <td>0.06</td>\n",
       "      <td>0.06</td>\n",
       "      <td>0.06</td>\n",
       "      <td>0.06</td>\n",
       "      <td>0.06</td>\n",
       "    </tr>\n",
       "  </tbody>\n",
       "</table>\n",
       "<p>5 rows × 27 columns</p>\n",
       "</div>"
      ],
      "text/plain": [
       "                             ws_000      wd_000    ws_001     wd_001  \\\n",
       "Timestamp                                                              \n",
       "2020-01-01 00:00:00+00:00  6.031061  257.404999  6.157769  258.56249   \n",
       "2020-01-01 00:00:01+00:00  6.031061  257.404999  6.157769  258.56249   \n",
       "2020-01-01 00:00:02+00:00  6.031061  257.404999  6.157769  258.56249   \n",
       "2020-01-01 00:00:03+00:00  6.031061  257.404999  6.157769  258.56249   \n",
       "2020-01-01 00:00:04+00:00  6.031061  257.404999  6.157769  258.56249   \n",
       "\n",
       "                             ws_002      wd_002    ws_003  wd_003    ws_004  \\\n",
       "Timestamp                                                                     \n",
       "2020-01-01 00:00:00+00:00  5.606109  257.392494  6.101514  255.94  4.261485   \n",
       "2020-01-01 00:00:01+00:00  5.606109  257.392494  6.101514  255.94  4.261485   \n",
       "2020-01-01 00:00:02+00:00  5.606109  257.392494  6.101514  255.94  4.261485   \n",
       "2020-01-01 00:00:03+00:00  5.606109  257.392494  6.101514  255.94  4.261485   \n",
       "2020-01-01 00:00:04+00:00  5.606109  257.392494  6.101514  255.94  4.261485   \n",
       "\n",
       "                               wd_004  ...     wd_008  ti_000  ti_001  ti_002  \\\n",
       "Timestamp                              ...                                      \n",
       "2020-01-01 00:00:00+00:00  255.317491  ...  259.89008    0.06    0.06    0.06   \n",
       "2020-01-01 00:00:01+00:00  255.317491  ...  259.89008    0.06    0.06    0.06   \n",
       "2020-01-01 00:00:02+00:00  255.317491  ...  259.89008    0.06    0.06    0.06   \n",
       "2020-01-01 00:00:03+00:00  255.317491  ...  259.89008    0.06    0.06    0.06   \n",
       "2020-01-01 00:00:04+00:00  255.317491  ...  259.89008    0.06    0.06    0.06   \n",
       "\n",
       "                           ti_003  ti_004  ti_005  ti_006  ti_007  ti_008  \n",
       "Timestamp                                                                  \n",
       "2020-01-01 00:00:00+00:00    0.06    0.06    0.06    0.06    0.06    0.06  \n",
       "2020-01-01 00:00:01+00:00    0.06    0.06    0.06    0.06    0.06    0.06  \n",
       "2020-01-01 00:00:02+00:00    0.06    0.06    0.06    0.06    0.06    0.06  \n",
       "2020-01-01 00:00:03+00:00    0.06    0.06    0.06    0.06    0.06    0.06  \n",
       "2020-01-01 00:00:04+00:00    0.06    0.06    0.06    0.06    0.06    0.06  \n",
       "\n",
       "[5 rows x 27 columns]"
      ]
     },
     "execution_count": 21,
     "metadata": {},
     "output_type": "execute_result"
    }
   ],
   "source": [
    "# Upsample to final_time_step second intervals from 5 minutes\n",
    "df_turbine_input = df_turbine_input.resample(f\"{int(final_time_step)}s\").ffill().bfill()\n",
    "\n",
    "df_turbine_input.head()"
   ]
  },
  {
   "cell_type": "markdown",
   "metadata": {},
   "source": [
    "### Now add random noise to each ws/wd column"
   ]
  },
  {
   "cell_type": "code",
   "execution_count": 22,
   "metadata": {},
   "outputs": [],
   "source": [
    "ws_std = 0.25\n",
    "wd_std = 0.5\n",
    "\n",
    "ws_columns = [col for col in df_turbine_input.columns if col.startswith(\"ws_\")]\n",
    "wd_columns = [col for col in df_turbine_input.columns if col.startswith(\"wd_\")]\n",
    "\n",
    "df_turbine_input[ws_columns] += np.random.normal(0, ws_std, df_turbine_input[ws_columns].shape)\n",
    "df_turbine_input[wd_columns] = (\n",
    "    df_turbine_input[wd_columns] + np.random.normal(0, wd_std, df_turbine_input[wd_columns].shape)\n",
    ") % 360.0"
   ]
  },
  {
   "cell_type": "code",
   "execution_count": 23,
   "metadata": {},
   "outputs": [],
   "source": [
    "# Set TimeStamp as a column again\n",
    "df_turbine_input = df_turbine_input.reset_index()"
   ]
  },
  {
   "cell_type": "code",
   "execution_count": 25,
   "metadata": {},
   "outputs": [
    {
     "data": {
      "image/png": "[encoded data removed]",
      "text/plain": [
       "<Figure size 1000x600 with 2 Axes>"
      ]
     },
     "metadata": {},
     "output_type": "display_data"
    }
   ],
   "source": [
    "# Show the first day again\n",
    "\n",
    "# Repeat above showing only the first day\n",
    "fig, axarr = plt.subplots(2, 1, sharex=True, figsize=(10, 6))\n",
    "\n",
    "for i in [0, 8]:\n",
    "    ax = axarr[0]\n",
    "    ax.plot(\n",
    "        df_turbine_input[\"Timestamp\"].iloc[: 60 * 60 * 24],\n",
    "        df_turbine_input[f\"ws_{i:03d}\"].iloc[: 60 * 60 * 24],\n",
    "        label=f\"Turbine {i}\",\n",
    "    )\n",
    "    ax.set_ylabel(\"Wind Speed [m/s]\")\n",
    "    ax.legend()\n",
    "\n",
    "    ax = axarr[1]\n",
    "    ax.plot(\n",
    "        df_turbine_input[\"Timestamp\"].iloc[: 60 * 60 * 24],\n",
    "        df_turbine_input[f\"wd_{i:03d}\"].iloc[: 60 * 60 * 24],\n",
    "        label=f\"Turbine {i}\",\n",
    "    )\n",
    "    ax.set_ylabel(\"Wind Direction [deg]\")\n",
    "    ax.set_xlabel(\"Time\")"
   ]
  },
  {
   "cell_type": "markdown",
   "metadata": {},
   "source": [
    "## Save the data"
   ]
  },
  {
   "cell_type": "markdown",
   "metadata": {},
   "source": [
    "Note this is somewhat slow"
   ]
  },
  {
   "cell_type": "code",
   "execution_count": 27,
   "metadata": {},
   "outputs": [],
   "source": [
    "df_turbine_input.to_pickle(\"inputs/wind_input.p\")"
   ]
  }
 ],
 "metadata": {
  "kernelspec": {
   "display_name": "hercules",
   "language": "python",
   "name": "python3"
  },
  "language_info": {
   "codemirror_mode": {
    "name": "ipython",
    "version": 3
   },
   "file_extension": ".py",
   "mimetype": "text/x-python",
   "name": "python",
   "nbconvert_exporter": "python",
   "pygments_lexer": "ipython3",
   "version": "3.11.10"
  }
 },
 "nbformat": 4,
 "nbformat_minor": 2
}
