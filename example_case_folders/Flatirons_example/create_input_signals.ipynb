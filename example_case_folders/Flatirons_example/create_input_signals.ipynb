{
 "cells": [
  {
   "cell_type": "code",
   "execution_count": 22,
   "metadata": {},
   "outputs": [],
   "source": [
    "import matplotlib.pyplot as plt\n",
    "import pandas as pd\n",
    "import numpy as np"
   ]
  },
  {
   "cell_type": "code",
   "execution_count": 25,
   "metadata": {},
   "outputs": [
    {
     "name": "stdout",
     "output_type": "stream",
     "text": [
      "122401\n",
      "[0.00000e+00 5.00000e-01 1.00000e+00 ... 6.11995e+04 6.12000e+04\n",
      " 6.12005e+04] 122402\n"
     ]
    }
   ],
   "source": [
    "# Create Floris input file\n",
    "import json\n",
    "# import \n",
    "from matplotlib.font_manager import FontProperties\n",
    "\n",
    "hfont = {'fontname':'Helvetica'}\n",
    "font = FontProperties()\n",
    "font.set_family('serif')\n",
    "font.set_name('Times New Roman')\n",
    "# font.set_style('italic')\n",
    "\n",
    "data_folder = \"/Users/gstarke/Documents/Research_Programs/emu_moa_python/P2N/Flatirons_example\"\n",
    "\n",
    "\n",
    "# Create wind input file from Flatirons data\n",
    "data = pd.read_csv(\"Flatirons_wind_data_precursor.csv\")\n",
    "print(len(data[\"amr_wind_speed\"]))\n",
    "\n",
    "time_new = np.arange(0,17*3600+1, 0.5)\n",
    "wd_new = [240.0 for x in time_new]\n",
    "\n",
    "\n",
    "print(time_new, len(time_new))\n",
    "df = pd.DataFrame()\n",
    "df = data.filter(['amr_wind_speed'])\n",
    "df['time'] = time_new[0:-1]\n",
    "df['amr_wind_direction'] = wd_new[0:-1]\n",
    "df = df[['time', 'amr_wind_speed','amr_wind_direction']]\n",
    "df.info\n",
    "\n",
    "# df.to_csv('floris_flatirons_data_fixedwd.csv')\n",
    "\n",
    "# fig, ax = plt.subplots(2, 1, sharex=\"col\")  # , figsize=[6,5], dpi=250)\n",
    "\n",
    "# ax[0].plot(time_new / 3600, wd_new,'b')\n",
    "# ax[0].set_ylabel(\"Wind direction [deg]\", font=font, fontsize = 14)\n",
    "# # ax[1].legend()\n",
    "\n",
    "# ax[1].plot(df['time']/3600, df['amr_wind_speed'],'b')\n",
    "# ax[1].set_ylabel(\"Wind Speed [m/s]\", font=font, fontsize = 14)\n",
    "# ax[-1].set_xlabel(\"Time [hr]\", font=font, fontsize = 14)\n",
    "# ax[1].grid()\n",
    "# ax[0].grid()\n"
   ]
  },
  {
   "cell_type": "code",
   "execution_count": 25,
   "metadata": {},
   "outputs": [
    {
     "data": {
      "image/png": "[encoded data removed]",
      "text/plain": [
       "<Figure size 432x288 with 1 Axes>"
      ]
     },
     "metadata": {
      "needs_background": "light"
     },
     "output_type": "display_data"
    }
   ],
   "source": [
    "# Create output file for wind data\n",
    "\n",
    "power_value = 75000 # in kW\n",
    "# power_value = 20000 # in kW\n",
    "plant_power_reference = power_value*np.ones(203)\n",
    "time = np.linspace(101.0, 650.0, num=200)\n",
    "time = np.insert(time, 0, 100.0)\n",
    "time = np.insert(time, 0,  10.0)\n",
    "time = np.insert(time, 0, 0.0)\n",
    "# time[0] = 0.0\n",
    "# time[1] = 10.0\n",
    "# time[2] = 100.0\n",
    "\n",
    "# for i in range(3,len(Power_reference)):\n",
    "#     Power_reference[i] = Power_reference[i] + (np.random.rand()-0.5) * power_value * 0.02\n",
    "\n",
    "plt.figure()\n",
    "plt.plot(time, plant_power_reference)\n",
    "plt.ylabel(\"Power [kW]\")\n",
    "plt.xlabel(\"Time\")\n",
    "zipped = np.transpose([time, plant_power_reference])\n",
    "\n",
    "# np.savetxt(\"plant_power_reference.csv\", zipped, fmt='%1.4e', delimiter=',', header=\"time,plant_power_reference\", comments=\"\")\n",
    "# np.savetxt(\"plant_power_reference.csv\", zipped, fmt='%1.4e', delimiter=',', header=\"time,wind_power_reference\", comments=\"\")\n",
    "\n",
    "\n"
   ]
  }
 ],
 "metadata": {
  "kernelspec": {
   "display_name": "base",
   "language": "python",
   "name": "python3"
  },
  "language_info": {
   "codemirror_mode": {
    "name": "ipython",
    "version": 3
   },
   "file_extension": ".py",
   "mimetype": "text/x-python",
   "name": "python",
   "nbconvert_exporter": "python",
   "pygments_lexer": "ipython3",
   "version": "3.9.7"
  },
  "orig_nbformat": 4,
  "vscode": {
   "interpreter": {
    "hash": "ad2bdc8ecc057115af97d19610ffacc2b4e99fae6737bb82f5d7fb13d2f2c186"
   }
  }
 },
 "nbformat": 4,
 "nbformat_minor": 2
}
