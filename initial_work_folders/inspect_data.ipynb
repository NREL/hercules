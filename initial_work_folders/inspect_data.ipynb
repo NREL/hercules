{
 "cells": [
  {
   "cell_type": "code",
   "execution_count": 1,
   "metadata": {},
   "outputs": [],
   "source": [
    "import pathlib\n",
    "import sqlite3\n",
    "import logging\n",
    "import datetime\n",
    "import os\n",
    "import sys\n",
    "import time\n",
    "import pandas as pd\n",
    "import numpy as np\n",
    "import seaborn as sns"
   ]
  },
  {
   "cell_type": "markdown",
   "metadata": {},
   "source": [
    "## First read the data from sql"
   ]
  },
  {
   "cell_type": "code",
   "execution_count": 2,
   "metadata": {},
   "outputs": [],
   "source": [
    "#SQL Connection\n",
    "sqlite_database_filename ='data.db'\n",
    "con = sqlite3.connect(sqlite_database_filename, detect_types=sqlite3.PARSE_DECLTYPES | sqlite3.PARSE_COLNAMES)"
   ]
  },
  {
   "cell_type": "code",
   "execution_count": 3,
   "metadata": {
    "scrolled": true
   },
   "outputs": [
    {
     "data": {
      "text/html": [
       "<div>\n",
       "<style scoped>\n",
       "    .dataframe tbody tr th:only-of-type {\n",
       "        vertical-align: middle;\n",
       "    }\n",
       "\n",
       "    .dataframe tbody tr th {\n",
       "        vertical-align: top;\n",
       "    }\n",
       "\n",
       "    .dataframe thead th {\n",
       "        text-align: right;\n",
       "    }\n",
       "</style>\n",
       "<table border=\"1\" class=\"dataframe\">\n",
       "  <thead>\n",
       "    <tr style=\"text-align: right;\">\n",
       "      <th></th>\n",
       "      <th>timestamp</th>\n",
       "      <th>sim_time_s</th>\n",
       "      <th>source_system</th>\n",
       "      <th>data_type</th>\n",
       "      <th>data_label</th>\n",
       "      <th>value</th>\n",
       "    </tr>\n",
       "  </thead>\n",
       "  <tbody>\n",
       "    <tr>\n",
       "      <th>115</th>\n",
       "      <td>2022-02-07 15:45:07.358012</td>\n",
       "      <td>14.0</td>\n",
       "      <td>amr_wind</td>\n",
       "      <td>wind_direction</td>\n",
       "      <td>wind_direction</td>\n",
       "      <td>270.000000</td>\n",
       "    </tr>\n",
       "    <tr>\n",
       "      <th>116</th>\n",
       "      <td>2022-02-07 15:45:07.358012</td>\n",
       "      <td>14.0</td>\n",
       "      <td>amr_wind</td>\n",
       "      <td>turbine_power</td>\n",
       "      <td>t0</td>\n",
       "      <td>1724.842100</td>\n",
       "    </tr>\n",
       "    <tr>\n",
       "      <th>117</th>\n",
       "      <td>2022-02-07 15:45:07.358012</td>\n",
       "      <td>14.0</td>\n",
       "      <td>amr_wind</td>\n",
       "      <td>turbine_power</td>\n",
       "      <td>t1</td>\n",
       "      <td>1697.395646</td>\n",
       "    </tr>\n",
       "    <tr>\n",
       "      <th>118</th>\n",
       "      <td>2022-02-07 15:45:07.358012</td>\n",
       "      <td>14.0</td>\n",
       "      <td>amr_wind</td>\n",
       "      <td>turbine_power</td>\n",
       "      <td>t2</td>\n",
       "      <td>1297.539206</td>\n",
       "    </tr>\n",
       "    <tr>\n",
       "      <th>119</th>\n",
       "      <td>2022-02-07 15:45:07.358012</td>\n",
       "      <td>14.0</td>\n",
       "      <td>amr_wind</td>\n",
       "      <td>turbine_power</td>\n",
       "      <td>t3</td>\n",
       "      <td>1267.193014</td>\n",
       "    </tr>\n",
       "  </tbody>\n",
       "</table>\n",
       "</div>"
      ],
      "text/plain": [
       "                     timestamp  sim_time_s source_system       data_type  \\\n",
       "115 2022-02-07 15:45:07.358012        14.0      amr_wind  wind_direction   \n",
       "116 2022-02-07 15:45:07.358012        14.0      amr_wind   turbine_power   \n",
       "117 2022-02-07 15:45:07.358012        14.0      amr_wind   turbine_power   \n",
       "118 2022-02-07 15:45:07.358012        14.0      amr_wind   turbine_power   \n",
       "119 2022-02-07 15:45:07.358012        14.0      amr_wind   turbine_power   \n",
       "\n",
       "         data_label        value  \n",
       "115  wind_direction   270.000000  \n",
       "116              t0  1724.842100  \n",
       "117              t1  1697.395646  \n",
       "118              t2  1297.539206  \n",
       "119              t3  1267.193014  "
      ]
     },
     "execution_count": 3,
     "metadata": {},
     "output_type": "execute_result"
    }
   ],
   "source": [
    "statement = f'SELECT * from data_table order by timestamp;'\n",
    "df_data_table = pd.read_sql_query(statement, con)\n",
    "df_data_table.tail()"
   ]
  },
  {
   "cell_type": "code",
   "execution_count": null,
   "metadata": {},
   "outputs": [],
   "source": []
  },
  {
   "cell_type": "code",
   "execution_count": 4,
   "metadata": {},
   "outputs": [
    {
     "data": {
      "text/html": [
       "<div>\n",
       "<style scoped>\n",
       "    .dataframe tbody tr th:only-of-type {\n",
       "        vertical-align: middle;\n",
       "    }\n",
       "\n",
       "    .dataframe tbody tr th {\n",
       "        vertical-align: top;\n",
       "    }\n",
       "\n",
       "    .dataframe thead th {\n",
       "        text-align: right;\n",
       "    }\n",
       "</style>\n",
       "<table border=\"1\" class=\"dataframe\">\n",
       "  <thead>\n",
       "    <tr style=\"text-align: right;\">\n",
       "      <th></th>\n",
       "      <th>timestamp</th>\n",
       "      <th>data_type</th>\n",
       "      <th>data_label</th>\n",
       "      <th>value</th>\n",
       "    </tr>\n",
       "  </thead>\n",
       "  <tbody>\n",
       "    <tr>\n",
       "      <th>55</th>\n",
       "      <td>2022-02-07 15:45:05.592754</td>\n",
       "      <td>wind_direction</td>\n",
       "      <td>wind_direction</td>\n",
       "      <td>270.0</td>\n",
       "    </tr>\n",
       "    <tr>\n",
       "      <th>56</th>\n",
       "      <td>2022-02-07 15:45:06.094197</td>\n",
       "      <td>wind_speed</td>\n",
       "      <td>wind_speed</td>\n",
       "      <td>11.9</td>\n",
       "    </tr>\n",
       "    <tr>\n",
       "      <th>57</th>\n",
       "      <td>2022-02-07 15:45:06.094197</td>\n",
       "      <td>wind_direction</td>\n",
       "      <td>wind_direction</td>\n",
       "      <td>270.0</td>\n",
       "    </tr>\n",
       "    <tr>\n",
       "      <th>58</th>\n",
       "      <td>2022-02-07 15:45:06.591146</td>\n",
       "      <td>wind_speed</td>\n",
       "      <td>wind_speed</td>\n",
       "      <td>11.9</td>\n",
       "    </tr>\n",
       "    <tr>\n",
       "      <th>59</th>\n",
       "      <td>2022-02-07 15:45:06.591146</td>\n",
       "      <td>wind_direction</td>\n",
       "      <td>wind_direction</td>\n",
       "      <td>270.0</td>\n",
       "    </tr>\n",
       "  </tbody>\n",
       "</table>\n",
       "</div>"
      ],
      "text/plain": [
       "                    timestamp       data_type      data_label  value\n",
       "55 2022-02-07 15:45:05.592754  wind_direction  wind_direction  270.0\n",
       "56 2022-02-07 15:45:06.094197      wind_speed      wind_speed   11.9\n",
       "57 2022-02-07 15:45:06.094197  wind_direction  wind_direction  270.0\n",
       "58 2022-02-07 15:45:06.591146      wind_speed      wind_speed   11.9\n",
       "59 2022-02-07 15:45:06.591146  wind_direction  wind_direction  270.0"
      ]
     },
     "execution_count": 4,
     "metadata": {},
     "output_type": "execute_result"
    }
   ],
   "source": [
    "statement = f'SELECT * from front_end_table order by timestamp;'\n",
    "df_front_end_table = pd.read_sql_query(statement, con)\n",
    "df_front_end_table.tail()"
   ]
  },
  {
   "cell_type": "code",
   "execution_count": 5,
   "metadata": {},
   "outputs": [],
   "source": [
    "## Stich together\n",
    "df_front_end_table['source_system'] = 'front_end'"
   ]
  },
  {
   "cell_type": "code",
   "execution_count": 6,
   "metadata": {},
   "outputs": [
    {
     "data": {
      "text/html": [
       "<div>\n",
       "<style scoped>\n",
       "    .dataframe tbody tr th:only-of-type {\n",
       "        vertical-align: middle;\n",
       "    }\n",
       "\n",
       "    .dataframe tbody tr th {\n",
       "        vertical-align: top;\n",
       "    }\n",
       "\n",
       "    .dataframe thead th {\n",
       "        text-align: right;\n",
       "    }\n",
       "</style>\n",
       "<table border=\"1\" class=\"dataframe\">\n",
       "  <thead>\n",
       "    <tr style=\"text-align: right;\">\n",
       "      <th></th>\n",
       "      <th>timestamp</th>\n",
       "      <th>sim_time_s</th>\n",
       "      <th>source_system</th>\n",
       "      <th>data_type</th>\n",
       "      <th>data_label</th>\n",
       "      <th>value</th>\n",
       "    </tr>\n",
       "  </thead>\n",
       "  <tbody>\n",
       "    <tr>\n",
       "      <th>0</th>\n",
       "      <td>2022-02-07 15:44:52.116220</td>\n",
       "      <td>NaN</td>\n",
       "      <td>front_end</td>\n",
       "      <td>wind_speed</td>\n",
       "      <td>wind_speed</td>\n",
       "      <td>8.000000</td>\n",
       "    </tr>\n",
       "    <tr>\n",
       "      <th>1</th>\n",
       "      <td>2022-02-07 15:44:52.116220</td>\n",
       "      <td>NaN</td>\n",
       "      <td>front_end</td>\n",
       "      <td>wind_direction</td>\n",
       "      <td>wind_direction</td>\n",
       "      <td>270.000000</td>\n",
       "    </tr>\n",
       "    <tr>\n",
       "      <th>2</th>\n",
       "      <td>2022-02-07 15:44:52.720328</td>\n",
       "      <td>NaN</td>\n",
       "      <td>front_end</td>\n",
       "      <td>wind_speed</td>\n",
       "      <td>wind_speed</td>\n",
       "      <td>8.000000</td>\n",
       "    </tr>\n",
       "    <tr>\n",
       "      <th>3</th>\n",
       "      <td>2022-02-07 15:44:52.720328</td>\n",
       "      <td>NaN</td>\n",
       "      <td>front_end</td>\n",
       "      <td>wind_direction</td>\n",
       "      <td>wind_direction</td>\n",
       "      <td>270.000000</td>\n",
       "    </tr>\n",
       "    <tr>\n",
       "      <th>7</th>\n",
       "      <td>2022-02-07 15:44:52.958915</td>\n",
       "      <td>0.0</td>\n",
       "      <td>amr_wind</td>\n",
       "      <td>turbine_power</td>\n",
       "      <td>t3</td>\n",
       "      <td>402.036799</td>\n",
       "    </tr>\n",
       "  </tbody>\n",
       "</table>\n",
       "</div>"
      ],
      "text/plain": [
       "                   timestamp  sim_time_s source_system       data_type  \\\n",
       "0 2022-02-07 15:44:52.116220         NaN     front_end      wind_speed   \n",
       "1 2022-02-07 15:44:52.116220         NaN     front_end  wind_direction   \n",
       "2 2022-02-07 15:44:52.720328         NaN     front_end      wind_speed   \n",
       "3 2022-02-07 15:44:52.720328         NaN     front_end  wind_direction   \n",
       "7 2022-02-07 15:44:52.958915         0.0      amr_wind   turbine_power   \n",
       "\n",
       "       data_label       value  \n",
       "0      wind_speed    8.000000  \n",
       "1  wind_direction  270.000000  \n",
       "2      wind_speed    8.000000  \n",
       "3  wind_direction  270.000000  \n",
       "7              t3  402.036799  "
      ]
     },
     "execution_count": 6,
     "metadata": {},
     "output_type": "execute_result"
    }
   ],
   "source": [
    "df = df_data_table.append(df_front_end_table).sort_values('timestamp')\n",
    "df.head()"
   ]
  },
  {
   "cell_type": "code",
   "execution_count": 7,
   "metadata": {},
   "outputs": [],
   "source": [
    "df['timestamp'] = pd.to_datetime(df.timestamp)\n",
    "df = df.reset_index(drop=True)"
   ]
  },
  {
   "cell_type": "code",
   "execution_count": 8,
   "metadata": {},
   "outputs": [
    {
     "data": {
      "image/png": "[encoded data removed]",
      "text/plain": [
       "<Figure size 1187.62x108 with 1 Axes>"
      ]
     },
     "metadata": {
      "needs_background": "light"
     },
     "output_type": "display_data"
    }
   ],
   "source": [
    "## Consider wind speed stuff\n",
    "df_sub = df[df.data_type=='wind_speed'].reset_index(drop=True)\n",
    "g = sns.relplot(data=df_sub,kind='line',x='timestamp',y='value',hue='source_system',aspect=10,height=1.5)"
   ]
  },
  {
   "cell_type": "code",
   "execution_count": 9,
   "metadata": {},
   "outputs": [
    {
     "data": {
      "image/png": "[encoded data removed]",
      "text/plain": [
       "<Figure size 1080x324 with 3 Axes>"
      ]
     },
     "metadata": {
      "needs_background": "light"
     },
     "output_type": "display_data"
    }
   ],
   "source": [
    "## Consider wind speed stuff\n",
    "df_sub = df[df.data_type=='wind_speed'].reset_index(drop=True)\n",
    "g = sns.relplot(data=df_sub,kind='line',x='timestamp',y='value',row='source_system',aspect=10,height=1.5,marker='s')\n",
    "for ax in g.axes.flatten():\n",
    "    ax.grid(True)"
   ]
  },
  {
   "cell_type": "code",
   "execution_count": 10,
   "metadata": {},
   "outputs": [
    {
     "data": {
      "image/png": "[encoded data removed]",
      "text/plain": [
       "<Figure size 1187.62x216 with 2 Axes>"
      ]
     },
     "metadata": {
      "needs_background": "light"
     },
     "output_type": "display_data"
    }
   ],
   "source": [
    "## Show some stuff together\n",
    "## Consider wind speed stuff\n",
    "df_sub = df[df.data_type.isin(['wind_speed','turbine_power'])].reset_index(drop=True)\n",
    "g = sns.relplot(data=df_sub,kind='line',x='timestamp',y='value',hue='source_system',row='data_type',\n",
    "                aspect=10,height=1.5,\n",
    "               facet_kws = {'sharey':False})\n",
    "for ax in g.axes.flatten():\n",
    "    ax.grid(True)"
   ]
  },
  {
   "cell_type": "code",
   "execution_count": 11,
   "metadata": {},
   "outputs": [
    {
     "data": {
      "image/png": "[encoded data removed]",
      "text/plain": [
       "<Figure size 1187.62x216 with 2 Axes>"
      ]
     },
     "metadata": {
      "needs_background": "light"
     },
     "output_type": "display_data"
    }
   ],
   "source": [
    "df_sub = df[df.data_type.isin(['wind_speed','turbine_power'])].reset_index(drop=True).dropna()\n",
    "g = sns.relplot(data=df_sub,kind='line',x='sim_time_s',y='value',hue='source_system',row='data_type',\n",
    "                aspect=10,height=1.5,\n",
    "               facet_kws = {'sharey':False})\n",
    "for ax in g.axes.flatten():\n",
    "    ax.grid(True)"
   ]
  },
  {
   "cell_type": "code",
   "execution_count": null,
   "metadata": {},
   "outputs": [],
   "source": []
  }
 ],
 "metadata": {
  "kernelspec": {
   "display_name": "env_emupy",
   "language": "python",
   "name": "env_emupy"
  },
  "language_info": {
   "codemirror_mode": {
    "name": "ipython",
    "version": 3
   },
   "file_extension": ".py",
   "mimetype": "text/x-python",
   "name": "python",
   "nbconvert_exporter": "python",
   "pygments_lexer": "ipython3",
   "version": "3.8.5"
  }
 },
 "nbformat": 4,
 "nbformat_minor": 2
}
